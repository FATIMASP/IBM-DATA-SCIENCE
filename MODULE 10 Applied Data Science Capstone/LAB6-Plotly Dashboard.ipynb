{
 "cells": [
  {
   "cell_type": "markdown",
   "metadata": {},
   "source": [
    "<div class=\"alert alert-block alert-info\">\n",
    "<H1>\n",
    "SpaceX  Falcon 9 Dashboard*\n",
    "</H1></div>\n",
    "\n",
    "Source for plot colors: https://stackoverflow.com/questions/70865163/set-background-color-in-dash-plotly\n",
    "Source for app background colors: https://dash.plotly.com/layout\n",
    "Source for color picker: https://www.rapidtables.com/web/color/color-picker.html   "
   ]
  },
  {
   "cell_type": "markdown",
   "metadata": {},
   "source": [
    "### Import Required Libraries"
   ]
  },
  {
   "cell_type": "code",
   "execution_count": 1,
   "metadata": {},
   "outputs": [
    {
     "name": "stderr",
     "output_type": "stream",
     "text": [
      "<ipython-input-1-91760cbcf454>:2: UserWarning: \n",
      "The dash_html_components package is deprecated. Please replace\n",
      "`import dash_html_components as html` with `from dash import html`\n",
      "  import dash_html_components as html\n",
      "<ipython-input-1-91760cbcf454>:3: UserWarning: \n",
      "The dash_core_components package is deprecated. Please replace\n",
      "`import dash_core_components as dcc` with `from dash import dcc`\n",
      "  import dash_core_components as dcc\n"
     ]
    }
   ],
   "source": [
    "import dash\n",
    "import dash_html_components as html\n",
    "import dash_core_components as dcc\n",
    "from dash.dependencies import Input, Output\n",
    "import pandas as pd # To read file\n",
    "import plotly.express as px # To make figures"
   ]
  },
  {
   "cell_type": "markdown",
   "metadata": {},
   "source": [
    "<div class=\"alert alert-block alert-success\">\n",
    "<H5>\n",
    "Read File\n",
    "</H5></div>"
   ]
  },
  {
   "cell_type": "code",
   "execution_count": 2,
   "metadata": {},
   "outputs": [
    {
     "name": "stdout",
     "output_type": "stream",
     "text": [
      "    Unnamed: 0  Flight Number   Launch Site  class  Payload Mass (kg)  \\\n",
      "53          53             52  CCAFS SLC-40      0             2647.0   \n",
      "54          54             53  CCAFS SLC-40      1              362.0   \n",
      "55          55             56  CCAFS SLC-40      0             5384.0   \n",
      "\n",
      "   Booster Version Booster Version Category  \n",
      "53  F9 B4  B1039.2                       B4  \n",
      "54   F9 B4 B1045.1                       B4  \n",
      "55  F9 B4  B1040.2                       B4  \n"
     ]
    }
   ],
   "source": [
    "csv_file = \"https://cf-courses-data.s3.us.cloud-object-storage.appdomain.cloud/IBM-DS0321EN-SkillsNetwork/datasets/spacex_launch_dash.csv\"\n",
    "spacex_launch_data = pd.read_csv(csv_file)\n",
    "print(spacex_launch_data.tail(3))"
   ]
  },
  {
   "cell_type": "markdown",
   "metadata": {},
   "source": [
    "**** Check Launch Sites as Unique List ****"
   ]
  },
  {
   "cell_type": "code",
   "execution_count": 3,
   "metadata": {},
   "outputs": [
    {
     "name": "stdout",
     "output_type": "stream",
     "text": [
      "['CCAFS LC-40' 'VAFB SLC-4E' 'KSC LC-39A' 'CCAFS SLC-40']\n"
     ]
    }
   ],
   "source": [
    "df2 = pd.unique(spacex_launch_data[['Launch Site']].values.ravel())\n",
    "print(df2)"
   ]
  },
  {
   "cell_type": "markdown",
   "metadata": {},
   "source": [
    "<div class=\"alert alert-block alert-success\">\n",
    "<H5>\n",
    "Create App Filters for Filtering Data by Launch Site\n",
    "</H5></div>"
   ]
  },
  {
   "cell_type": "code",
   "execution_count": 4,
   "metadata": {},
   "outputs": [],
   "source": [
    "unique_launch_sites = spacex_launch_data['Launch Site'].unique().tolist()\n",
    "launch_sites = []\n",
    "launch_sites.append({'label': 'All Sites', 'value': 'All Sites'})\n",
    "for launch_site in unique_launch_sites:\n",
    "    launch_sites.append({'label': launch_site, 'value': launch_site})"
   ]
  },
  {
   "cell_type": "markdown",
   "metadata": {},
   "source": [
    "<div class=\"alert alert-block alert-success\">\n",
    "<H5>\n",
    "Calculate Min & Max Payloads\n",
    "</H5></div>"
   ]
  },
  {
   "cell_type": "code",
   "execution_count": 5,
   "metadata": {},
   "outputs": [
    {
     "name": "stdout",
     "output_type": "stream",
     "text": [
      "9600\n",
      "0\n"
     ]
    }
   ],
   "source": [
    "#spacex_launch_data['Payload Mass (kg)'] = pd.to_numeric(spacex_launch_data['Payload Mass (kg)'])\n",
    "spacex_launch_data['Payload Mass (kg)'] = spacex_launch_data['Payload Mass (kg)'].astype(int)\n",
    "\n",
    "max_payload = spacex_launch_data['Payload Mass (kg)'].max()\n",
    "min_payload = spacex_launch_data['Payload Mass (kg)'].min()\n",
    "\n",
    "print(max_payload)\n",
    "print(min_payload)"
   ]
  },
  {
   "cell_type": "markdown",
   "metadata": {},
   "source": [
    "<div class=\"alert alert-block alert-success\">\n",
    "<H5>\n",
    "Create Slider Range Markers\n",
    "</H5></div>"
   ]
  },
  {
   "cell_type": "code",
   "execution_count": 6,
   "metadata": {},
   "outputs": [
    {
     "name": "stdout",
     "output_type": "stream",
     "text": [
      "{0: {'label': '0 Kg'}, 1000: {'label': '1000 Kg'}, 2000: {'label': '2000 Kg'}, 3000: {'label': '3000 Kg'}, 4000: {'label': '4000 Kg'}, 5000: {'label': '5000 Kg'}, 6000: {'label': '6000 Kg'}, 7000: {'label': '7000 Kg'}, 8000: {'label': '8000 Kg'}, 9000: {'label': '9000 Kg'}, 10000: {'label': '10000 Kg'}}\n"
     ]
    }
   ],
   "source": [
    "marks_dict = {}\n",
    "for i in range(0,11000,1000):\n",
    "    marks_dict[i] = {'label': str(i)+' Kg'}\n",
    "print(marks_dict)"
   ]
  },
  {
   "cell_type": "markdown",
   "metadata": {},
   "source": [
    "<div class=\"alert alert-block alert-success\">\n",
    "<H5>\n",
    "Create Background Color Palette for Figures\n",
    "</H5></div>"
   ]
  },
  {
   "cell_type": "code",
   "execution_count": 7,
   "metadata": {},
   "outputs": [],
   "source": [
    "# Bckground color for App Skeleton\n",
    "colors = {\n",
    "    'background': '#F6FFDB',\n",
    "    'text': '#161A0B'\n",
    "}\n",
    "\n",
    "# Bckground color for Slider Bar\n",
    "colors1a = {\n",
    "    'background': '#751875',\n",
    "    'text': '#FFFF4B'\n",
    "}\n",
    "\n",
    "# Bckground color for Slider Chart\n",
    "colors1b = {\n",
    "    'background': '#FFEFFF',\n",
    "    'text': '#161A0B'\n",
    "}\n",
    "\n",
    "# Bckground color for Pie Chart\n",
    "colors2 = {\n",
    "    'background': '#F7FFE9',\n",
    "    'text': '#161A0B'\n",
    "}"
   ]
  },
  {
   "cell_type": "markdown",
   "metadata": {},
   "source": [
    "<div class=\"alert alert-block alert-success\">\n",
    "<H5>\n",
    "Create App Layout\n",
    "</H5></div>"
   ]
  },
  {
   "cell_type": "markdown",
   "metadata": {},
   "source": [
    "<div class=\"alert alert-block alert-warning\">\n",
    "<H5>\n",
    "TASK 1: App Layout\n",
    "</H5></div>"
   ]
  },
  {
   "cell_type": "code",
   "execution_count": 8,
   "metadata": {},
   "outputs": [],
   "source": [
    "# Create a dash application\n",
    "app = dash.Dash('SPACE X DASHBOARD')\n",
    "\n",
    "# Create an app layout\n",
    "app.layout = html.Div(style= {'backgroundColor': colors['background']}, \n",
    "                      children=[html.H1('SpaceX Launch Records Dashboard',\n",
    "                                        style={'textAlign': 'center', 'color': '#503D36',\n",
    "                                               'font-size': 40}),\n",
    "                                # TASK 1: Add a dropdown list to enable Launch Site selection\n",
    "                                # The default select value is for ALL sites\n",
    "                                # dcc.Dropdown(id='site-dropdown',...)\n",
    "                                dcc.Dropdown(\n",
    "                                    id = 'site-dropdown',\n",
    "                                    style={'text-align-last': 'center', 'width':'80%', \"color\": \"darkblue\", \n",
    "                                           'padding':'3px', 'font-size': '20px'},\n",
    "                                    options = launch_sites,\n",
    "                                    placeholder = 'Select a Launch Site',\n",
    "                                    searchable = True ,\n",
    "                                    value = 'All Sites' # To set dropdown default to 'All Sites'\n",
    "                                ),\n",
    "                                html.Br(),\n",
    "\n",
    "                                # TASK 2: Add a pie chart to show the total successful launches count for all sites\n",
    "                                # If a specific launch site was selected, show the Success vs. Failed counts for the site\n",
    "                                html.Div(dcc.Graph(id='success-pie-chart')),\n",
    "                                html.Br(),\n",
    "\n",
    "                                html.P(\"Payload range (Kg):\"),\n",
    "                                #########################\n",
    "                               \n",
    "                                # TASK 3: Add a slider to select payload range\n",
    "                                #dcc.RangeSlider(id='payload-slider',...)\n",
    "                                html.Div([\n",
    "                                    dcc.RangeSlider(\n",
    "                                        id = 'payload_slider',\n",
    "                                        min = 0,\n",
    "                                        max = 10000,\n",
    "                                        step = 1000,\n",
    "                                        marks = marks_dict, # Created Above\n",
    "                                        #marks= {marks_dict: {'style': {'color': 'red'}}},\n",
    "                                        value = [min_payload, max_payload] # Calculated Above\n",
    "                                    ),\n",
    "                                ], style={'padding': '40px 30px'}),\n",
    "                                \n",
    "                                #marks={'1': '1', '6': '6', '12': {'label': '12', 'style': {'color': 'red'}}}\n",
    "\n",
    "                                # TASK 4: Add a scatter chart to show the correlation between payload and launch success\n",
    "                                html.Div(dcc.Graph(id='success-payload-scatter-chart')),\n",
    "                                ])"
   ]
  },
  {
   "cell_type": "markdown",
   "metadata": {},
   "source": [
    "<div class=\"alert alert-block alert-warning\">\n",
    "<H5>\n",
    "TASK 2: Callback Functions for Pie Chart\n",
    "</H5></div>\n",
    "\n",
    "**** Add a callback function for `site-dropdown` as input, `success-pie-chart` as output ****"
   ]
  },
  {
   "cell_type": "code",
   "execution_count": 9,
   "metadata": {},
   "outputs": [],
   "source": [
    "# Add a callback function for `site-dropdown` as input, `success-pie-chart` as output\n",
    "@app.callback(\n",
    "     Output(component_id = 'success-pie-chart', component_property = 'figure'),\n",
    "     [Input(component_id = 'site-dropdown', component_property = 'value')]\n",
    ")\n",
    "def piegraph_update(site_dropdown):\n",
    "    if site_dropdown == 'All Sites' or site_dropdown == 'None':\n",
    "        data  = spacex_launch_data[spacex_launch_data['class'] == 1]\n",
    "        fig = px.pie(\n",
    "                data,\n",
    "                names = 'Launch Site',\n",
    "                color_discrete_sequence = px.colors.sequential.RdBu ,\n",
    "                title = '<b>Total Success Launches by Site</b>' ,\n",
    "            )\n",
    "        \n",
    "        #Apply Background Colors to Figure\n",
    "        fig.update_layout(plot_bgcolor='rgb(74,24,100)')\n",
    "\n",
    "    else:\n",
    "        data = spacex_launch_data.loc[spacex_launch_data['Launch Site'] == site_dropdown]\n",
    "        fig = px.pie(\n",
    "                data,\n",
    "                names = 'class',\n",
    "                color_discrete_sequence = px.colors.qualitative.Set3 ,\n",
    "                title = '<b>Total Success Launches for Site </b>' + site_dropdown ,\n",
    "            )\n",
    "        \n",
    "        #Apply Background Colors to Figure\n",
    "        fig.update_layout(plot_bgcolor='rgb(74,24,100)')\n",
    "    return fig"
   ]
  },
  {
   "cell_type": "markdown",
   "metadata": {},
   "source": [
    "<div class=\"alert alert-block alert-warning\">\n",
    "<H5>\n",
    "TASK 3 & 4: Callback Functions for Scatter Chart with Slider\n",
    "</H5></div>\n",
    "\n",
    "**** Add a callback function for `site-dropdown` and `payload-slider` as inputs, `success-payload-scatter-chart` as output ****\n"
   ]
  },
  {
   "cell_type": "code",
   "execution_count": 10,
   "metadata": {},
   "outputs": [],
   "source": [
    "@app.callback(\n",
    "     Output(component_id = 'success-payload-scatter-chart', component_property = 'figure'),\n",
    "     [Input(component_id = 'site-dropdown', component_property = 'value'), \n",
    "     Input(component_id = \"payload_slider\", component_property = \"value\")]\n",
    ")\n",
    "\n",
    "def scattergraph_update(site_dropdown, payload_slider):\n",
    "    low, high = payload_slider\n",
    "    if (site_dropdown == 'All Sites' or site_dropdown == 'None'):\n",
    "        print(payload_slider)\n",
    "        low, high = payload_slider\n",
    "        data = spacex_launch_data[spacex_launch_data['Payload Mass (kg)'].between(low, high)]\n",
    "        fig = px.scatter(\n",
    "                data, \n",
    "                x = \"class\", \n",
    "                y = \"Payload Mass (kg)\",\n",
    "                title = '<b>Correlation between Payload and Success for all Sites</b>',\n",
    "                color = \"Booster Version Category\"\n",
    "            )\n",
    "        #Apply Background Colors to Figure\n",
    "        fig.update_layout({'plot_bgcolor': colors1b['background'],'paper_bgcolor': colors1b['background'],})\n",
    "    else:\n",
    "        print(payload_slider)\n",
    "        low, high = payload_slider\n",
    "        data = spacex_launch_data[spacex_launch_data['Payload Mass (kg)'].between(low, high)]\n",
    "        data_filtered = data[data['Launch Site'] == site_dropdown]\n",
    "        fig = px.scatter(\n",
    "                data_filtered,\n",
    "                x = \"class\",\n",
    "                y = \"Payload Mass (kg)\",\n",
    "                title = '<b>Correlation between Payload and Success for site </b>'+ site_dropdown,\n",
    "                color = \"Booster Version Category\"\n",
    "            )\n",
    "        #Apply Background Colors to Figure\n",
    "        fig.update_layout({'plot_bgcolor': colors1b['background'],'paper_bgcolor': colors1b['background'],})\n",
    "    return fig"
   ]
  },
  {
   "cell_type": "code",
   "execution_count": 11,
   "metadata": {},
   "outputs": [
    {
     "name": "stdout",
     "output_type": "stream",
     "text": [
      "Dash is running on http://127.0.0.1:8050/\n",
      "\n",
      " * Serving Flask app \"SPACE X DASHBOARD\" (lazy loading)\n",
      " * Environment: production\n",
      "   WARNING: This is a development server. Do not use it in a production deployment.\n",
      "   Use a production WSGI server instead.\n",
      " * Debug mode: off\n"
     ]
    },
    {
     "name": "stderr",
     "output_type": "stream",
     "text": [
      " * Running on http://127.0.0.1:8050/ (Press CTRL+C to quit)\n"
     ]
    }
   ],
   "source": [
    "# Run the app\n",
    "if __name__ == '__main__':\n",
    "    app.run_server()"
   ]
  }
 ],
 "metadata": {
  "kernelspec": {
   "display_name": "Python 3",
   "language": "python",
   "name": "python3"
  },
  "language_info": {
   "codemirror_mode": {
    "name": "ipython",
    "version": 3
   },
   "file_extension": ".py",
   "mimetype": "text/x-python",
   "name": "python",
   "nbconvert_exporter": "python",
   "pygments_lexer": "ipython3",
   "version": "3.8.5"
  }
 },
 "nbformat": 4,
 "nbformat_minor": 4
}
