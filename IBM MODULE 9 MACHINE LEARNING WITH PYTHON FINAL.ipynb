{
 "cells": [
  {
   "cell_type": "markdown",
   "metadata": {},
   "source": [
    "<center>\n",
    "    <img src=\"https://cf-courses-data.s3.us.cloud-object-storage.appdomain.cloud/IBMDeveloperSkillsNetwork-ML0101EN-SkillsNetwork/labs/FinalModule_Coursera/images/IDSNlogo.png\" width=\"300\" alt=\"cognitiveclass.ai logo\"  />\n",
    "</center>\n",
    "\n",
    "<h1 align=\"center\"><font size=\"5\">Classification with Python</font></h1>\n",
    "\n",
    "<h5 align=\"center\"><font size=\"5\">By:<br><br> Sayeda Fatima</font></h5>\n"
   ]
  },
  {
   "cell_type": "markdown",
   "metadata": {},
   "source": [
    "<div class=\"alert alert-block alert-info\">\n",
    "<H4>\n",
    "In this notebook we try to practice all the classification algorithms that we have learned in this course.<br>\n",
    "\n",
    "We load a dataset using Pandas library, and apply the following algorithms, and find the best one for this specific dataset by accuracy evaluation methods.<br>\n",
    "\n",
    "Let's first load required libraries:\n",
    "</H4></div>"
   ]
  },
  {
   "cell_type": "code",
   "execution_count": 1,
   "metadata": {},
   "outputs": [],
   "source": [
    "import itertools\n",
    "import pandas as pd\n",
    "import numpy as np\n",
    "from sklearn import preprocessing\n",
    "\n",
    "# K Neighbour Modules\n",
    "from sklearn.model_selection import train_test_split # For Splitting Data\n",
    "from sklearn.neighbors import KNeighborsClassifier   # For fitting & training KNN model \n",
    "\n",
    "# Decision Tree Modules\n",
    "from sklearn import metrics\n",
    "from sklearn.tree import DecisionTreeClassifier\n",
    "import sklearn.tree as tree\n",
    "import graphviz \n",
    "import pydotplus\n",
    "\n",
    "# Support Vector Machine Modules\n",
    "from sklearn import svm \n",
    "\n",
    "# Logistic Regression Modules\n",
    "from sklearn.linear_model import LogisticRegression \n",
    "\n",
    "# Reporting Modules\n",
    "from sklearn import metrics\n",
    "from sklearn.metrics import accuracy_score\n",
    "from sklearn.metrics import jaccard_score\n",
    "from sklearn.metrics import f1_score\n",
    "from sklearn.metrics import log_loss\n",
    "\n",
    "# Visualization Modules\n",
    "import seaborn as sns\n",
    "import matplotlib.pyplot as plt\n",
    "from matplotlib.ticker import NullFormatter\n",
    "import matplotlib.ticker as ticker\n",
    "%matplotlib inline"
   ]
  },
  {
   "cell_type": "markdown",
   "metadata": {},
   "source": [
    "### About dataset\n",
    "<div class=\"alert alert-block alert-success\">\n",
    "<H4>\n",
    "This dataset is about past loans.<br> \n",
    "The **Loan_train.csv** data set includes details of 346 customers whose loan are already paid off or defaulted.<br>\n",
    "It includes following fields:\n",
    "</H4></div>\n",
    "\n",
    "| Field          | Description                                                                           |\n",
    "| -------------- | ------------------------------------------------------------------------------------- |\n",
    "| Loan_status    | Whether a loan is paid off on in collection                                           |\n",
    "| Principal      | Basic principal loan amount at the                                                    |\n",
    "| Terms          | Origination terms which can be weekly (7 days), biweekly, and monthly payoff schedule |\n",
    "| Effective_date | When the loan got originated and took effects                                         |\n",
    "| Due_date       | Since it’s one-time payoff schedule, each loan has one single due date                |\n",
    "| Age            | Age of applicant                                                                      |\n",
    "| Education      | Education of applicant                                                                |\n",
    "| Gender         | The gender of applicant                                                               |\n",
    "\n",
    "<div class=\"alert alert-block alert-warning\">\n",
    "<H5>\n",
    "Let's download the dataset from CSV File\n",
    "</H5></div>"
   ]
  },
  {
   "cell_type": "code",
   "execution_count": 2,
   "metadata": {},
   "outputs": [
    {
     "name": "stdout",
     "output_type": "stream",
     "text": [
      "   Unnamed: 0  Unnamed: 0.1 loan_status  Principal  terms effective_date  \\\n",
      "0           0             0     PAIDOFF       1000     30       9/8/2016   \n",
      "1           2             2     PAIDOFF       1000     30       9/8/2016   \n",
      "2           3             3     PAIDOFF       1000     15       9/8/2016   \n",
      "\n",
      "    due_date  age             education  Gender  \n",
      "0  10/7/2016   45  High School or Below    male  \n",
      "1  10/7/2016   33              Bechalor  female  \n",
      "2  9/22/2016   27               college    male  \n"
     ]
    },
    {
     "data": {
      "text/plain": [
       "(346, 10)"
      ]
     },
     "execution_count": 2,
     "metadata": {},
     "output_type": "execute_result"
    }
   ],
   "source": [
    "file_name='https://cf-courses-data.s3.us.cloud-object-storage.appdomain.cloud/IBMDeveloperSkillsNetwork-ML0101EN-SkillsNetwork/labs/FinalModule_Coursera/data/loan_train.csv'\n",
    "df=pd.read_csv(file_name)\n",
    "print(df.head(3))\n",
    "#df.head()\n",
    "df.shape\n"
   ]
  },
  {
   "cell_type": "markdown",
   "metadata": {},
   "source": [
    "<div class=\"alert alert-block alert-warning\">\n",
    "<H5>\n",
    "Convert Columns with Date to Date-Time Object\n",
    "</H5></div>"
   ]
  },
  {
   "cell_type": "code",
   "execution_count": 3,
   "metadata": {},
   "outputs": [
    {
     "name": "stdout",
     "output_type": "stream",
     "text": [
      "   Unnamed: 0  Unnamed: 0.1 loan_status  Principal  terms effective_date  \\\n",
      "0           0             0     PAIDOFF       1000     30     2016-09-08   \n",
      "1           2             2     PAIDOFF       1000     30     2016-09-08   \n",
      "2           3             3     PAIDOFF       1000     15     2016-09-08   \n",
      "\n",
      "    due_date  age             education  Gender  \n",
      "0 2016-10-07   45  High School or Below    male  \n",
      "1 2016-10-07   33              Bechalor  female  \n",
      "2 2016-09-22   27               college    male  \n"
     ]
    }
   ],
   "source": [
    "df['due_date'] = pd.to_datetime(df['due_date'])\n",
    "df['effective_date'] = pd.to_datetime(df['effective_date'])\n",
    "print(df.head(3))"
   ]
  },
  {
   "cell_type": "markdown",
   "metadata": {},
   "source": [
    "# Data visualization and pre-processing\n",
    "<div class=\"alert alert-block alert-warning\">\n",
    "<H5>\n",
    "Let’s see how many of each class are there in selected data set columns\n",
    "</H5></div>"
   ]
  },
  {
   "cell_type": "code",
   "execution_count": 4,
   "metadata": {},
   "outputs": [
    {
     "name": "stdout",
     "output_type": "stream",
     "text": [
      "loan status:\n",
      " PAIDOFF       260\n",
      "COLLECTION     86\n",
      "Name: loan_status, dtype: int64 \n",
      "\n",
      "\n",
      "Gender:\n",
      " male      294\n",
      "female     52\n",
      "Name: Gender, dtype: int64 \n",
      "\n",
      "\n",
      "education:\n",
      " High School or Below    151\n",
      "college                 149\n",
      "Bechalor                 44\n",
      "Master or Above           2\n",
      "Name: education, dtype: int64\n"
     ]
    }
   ],
   "source": [
    "print(\"loan status:\\n\",df['loan_status'].value_counts(),\"\\n\\n\")\n",
    "print(\"Gender:\\n\",df['Gender'].value_counts(),\"\\n\\n\")\n",
    "print(\"education:\\n\",df['education'].value_counts())"
   ]
  },
  {
   "cell_type": "markdown",
   "metadata": {},
   "source": [
    "260 people have paid off the loan on time while 86 have gone into collection <br>\n",
    "There are two classes of Gender <br>\n",
    "There are four classes of education <br>"
   ]
  },
  {
   "cell_type": "markdown",
   "metadata": {},
   "source": [
    "# Pre-processing:  Feature selection/extraction\n",
    "\n",
    "<div class=\"alert alert-block alert-warning\">\n",
    "<H5>\n",
    "Let's plot some columns to understand data better:<br><br>\n",
    "\n",
    "1) Let's visualize 'loan status' of 'Principal'amount  made by the two 'Gender', \n",
    "</H5></div>"
   ]
  },
  {
   "cell_type": "code",
   "execution_count": 5,
   "metadata": {},
   "outputs": [
    {
     "data": {
      "image/png": "[encoded data removed]",
      "text/plain": [
       "<Figure size 432x216 with 2 Axes>"
      ]
     },
     "metadata": {
      "needs_background": "light"
     },
     "output_type": "display_data"
    }
   ],
   "source": [
    "bins = np.linspace(df.Principal.min(), df.Principal.max(), 10) # Bin Column 'Principal'\n",
    "g = sns.FacetGrid(df, col=\"Gender\", hue=\"loan_status\", palette=\"Set2\", col_wrap=2) # Set 'Gender' as bars\n",
    "g.map(plt.hist, 'Principal', bins=bins, ec=\"k\")\n",
    "\n",
    "g.axes[-1].legend()\n",
    "plt.show()"
   ]
  },
  {
   "cell_type": "markdown",
   "metadata": {},
   "source": [
    "<div class=\"alert alert-block alert-warning\">\n",
    "<H5>\n",
    "2) Now, let us also explore the impact of 'age' on 'loan status' for the two 'Gender', \n",
    "</H5></div>"
   ]
  },
  {
   "cell_type": "code",
   "execution_count": 6,
   "metadata": {},
   "outputs": [
    {
     "data": {
      "image/png": "[encoded data removed]",
      "text/plain": [
       "<Figure size 432x216 with 2 Axes>"
      ]
     },
     "metadata": {
      "needs_background": "light"
     },
     "output_type": "display_data"
    }
   ],
   "source": [
    "bins = np.linspace(df.age.min(), df.age.max(), 10)\n",
    "g = sns.FacetGrid(df, col=\"Gender\", hue=\"loan_status\", palette=\"Set2\", col_wrap=2)\n",
    "g.map(plt.hist, 'age', bins=bins, ec=\"k\")\n",
    "\n",
    "g.axes[-1].legend()\n",
    "plt.show()"
   ]
  },
  {
   "cell_type": "markdown",
   "metadata": {},
   "source": [
    "<div class=\"alert alert-block alert-warning\">\n",
    "<H5>\n",
    "3) How about education <br><br>\n",
    "Let's see if there is any impact of 'age' and 'education' on 'loan status'\n",
    "</H5></div>"
   ]
  },
  {
   "cell_type": "code",
   "execution_count": 7,
   "metadata": {},
   "outputs": [
    {
     "data": {
      "image/png": "[encoded data removed]",
      "text/plain": [
       "<Figure size 432x432 with 4 Axes>"
      ]
     },
     "metadata": {
      "needs_background": "light"
     },
     "output_type": "display_data"
    }
   ],
   "source": [
    "bins = np.linspace(df.age.min(), df.age.max(), 10)\n",
    "g = sns.FacetGrid(df, col=\"education\", hue=\"loan_status\", palette=\"Set2\", col_wrap=2)\n",
    "g.map(plt.hist, 'age', bins=bins, ec=\"k\")\n",
    "\n",
    "g.axes[-1].legend()\n",
    "plt.show()"
   ]
  },
  {
   "cell_type": "markdown",
   "metadata": {},
   "source": [
    "#### We see that people with education'Master or Above' are indifferent, so we will drop this group later"
   ]
  },
  {
   "cell_type": "markdown",
   "metadata": {},
   "source": [
    "<div class=\"alert alert-block alert-warning\">\n",
    "<H5>\n",
    "4) Using Column 'effective_date'; let us also look at the day of the week people get the loan\n",
    "</H5></div>"
   ]
  },
  {
   "cell_type": "code",
   "execution_count": 8,
   "metadata": {},
   "outputs": [
    {
     "data": {
      "image/png": "[encoded data removed]",
      "text/plain": [
       "<Figure size 432x216 with 2 Axes>"
      ]
     },
     "metadata": {
      "needs_background": "light"
     },
     "output_type": "display_data"
    }
   ],
   "source": [
    "df['dayofweek'] = df['effective_date'].dt.dayofweek\n",
    "bins = np.linspace(df.dayofweek.min(), df.dayofweek.max(), 10)\n",
    "g = sns.FacetGrid(df, col=\"Gender\", hue=\"loan_status\", palette=\"Set2\", col_wrap=2)\n",
    "g.map(plt.hist, 'dayofweek', bins=bins, ec=\"k\")\n",
    "g.axes[-1].legend()\n",
    "plt.show()"
   ]
  },
  {
   "cell_type": "markdown",
   "metadata": {},
   "source": [
    "<H4>\n",
    "We see that people who get the loan at the end of the week don't pay it off, <br><br>\n",
    "so let's use Feature binarization to set a threshold value greater than day 3\n",
    "</H4>"
   ]
  },
  {
   "cell_type": "code",
   "execution_count": 9,
   "metadata": {},
   "outputs": [],
   "source": [
    "#df['weekend'] = df['dayofweek'].apply(lambda x: 1 if (x>3)  else 0)\n",
    "#df.head()"
   ]
  },
  {
   "cell_type": "markdown",
   "metadata": {},
   "source": [
    "## Convert Categorical Features Explored Above to Numerical Values\n",
    "\n",
    "<div class=\"alert alert-block alert-warning\">\n",
    "<H5>\n",
    "1) Because Gender seems to have significant impact, let's explore it further\n",
    "</H5></div>\n"
   ]
  },
  {
   "cell_type": "code",
   "execution_count": 10,
   "metadata": {},
   "outputs": [
    {
     "data": {
      "text/plain": [
       "Gender  loan_status\n",
       "female  PAIDOFF        0.865385\n",
       "        COLLECTION     0.134615\n",
       "male    PAIDOFF        0.731293\n",
       "        COLLECTION     0.268707\n",
       "Name: loan_status, dtype: float64"
      ]
     },
     "execution_count": 10,
     "metadata": {},
     "output_type": "execute_result"
    }
   ],
   "source": [
    "df.groupby(['Gender'])['loan_status'].value_counts(normalize=True)"
   ]
  },
  {
   "cell_type": "markdown",
   "metadata": {},
   "source": [
    "<H4>\n",
    "We can see that 86% of female pay their loans while only 73 % of males pay their loans <br><br>\n",
    "\n",
    "Now, let's convert male to 0 and female to 1:\n",
    "</H4>"
   ]
  },
  {
   "cell_type": "code",
   "execution_count": 11,
   "metadata": {},
   "outputs": [
    {
     "data": {
      "text/html": [
       "<div>\n",
       "<style scoped>\n",
       "    .dataframe tbody tr th:only-of-type {\n",
       "        vertical-align: middle;\n",
       "    }\n",
       "\n",
       "    .dataframe tbody tr th {\n",
       "        vertical-align: top;\n",
       "    }\n",
       "\n",
       "    .dataframe thead th {\n",
       "        text-align: right;\n",
       "    }\n",
       "</style>\n",
       "<table border=\"1\" class=\"dataframe\">\n",
       "  <thead>\n",
       "    <tr style=\"text-align: right;\">\n",
       "      <th></th>\n",
       "      <th>Unnamed: 0</th>\n",
       "      <th>Unnamed: 0.1</th>\n",
       "      <th>loan_status</th>\n",
       "      <th>Principal</th>\n",
       "      <th>terms</th>\n",
       "      <th>effective_date</th>\n",
       "      <th>due_date</th>\n",
       "      <th>age</th>\n",
       "      <th>education</th>\n",
       "      <th>Gender</th>\n",
       "      <th>dayofweek</th>\n",
       "    </tr>\n",
       "  </thead>\n",
       "  <tbody>\n",
       "    <tr>\n",
       "      <th>0</th>\n",
       "      <td>0</td>\n",
       "      <td>0</td>\n",
       "      <td>PAIDOFF</td>\n",
       "      <td>1000</td>\n",
       "      <td>30</td>\n",
       "      <td>2016-09-08</td>\n",
       "      <td>2016-10-07</td>\n",
       "      <td>45</td>\n",
       "      <td>High School or Below</td>\n",
       "      <td>0</td>\n",
       "      <td>3</td>\n",
       "    </tr>\n",
       "    <tr>\n",
       "      <th>1</th>\n",
       "      <td>2</td>\n",
       "      <td>2</td>\n",
       "      <td>PAIDOFF</td>\n",
       "      <td>1000</td>\n",
       "      <td>30</td>\n",
       "      <td>2016-09-08</td>\n",
       "      <td>2016-10-07</td>\n",
       "      <td>33</td>\n",
       "      <td>Bechalor</td>\n",
       "      <td>1</td>\n",
       "      <td>3</td>\n",
       "    </tr>\n",
       "    <tr>\n",
       "      <th>2</th>\n",
       "      <td>3</td>\n",
       "      <td>3</td>\n",
       "      <td>PAIDOFF</td>\n",
       "      <td>1000</td>\n",
       "      <td>15</td>\n",
       "      <td>2016-09-08</td>\n",
       "      <td>2016-09-22</td>\n",
       "      <td>27</td>\n",
       "      <td>college</td>\n",
       "      <td>0</td>\n",
       "      <td>3</td>\n",
       "    </tr>\n",
       "  </tbody>\n",
       "</table>\n",
       "</div>"
      ],
      "text/plain": [
       "   Unnamed: 0  Unnamed: 0.1 loan_status  Principal  terms effective_date  \\\n",
       "0           0             0     PAIDOFF       1000     30     2016-09-08   \n",
       "1           2             2     PAIDOFF       1000     30     2016-09-08   \n",
       "2           3             3     PAIDOFF       1000     15     2016-09-08   \n",
       "\n",
       "    due_date  age             education  Gender  dayofweek  \n",
       "0 2016-10-07   45  High School or Below       0          3  \n",
       "1 2016-10-07   33              Bechalor       1          3  \n",
       "2 2016-09-22   27               college       0          3  "
      ]
     },
     "execution_count": 11,
     "metadata": {},
     "output_type": "execute_result"
    }
   ],
   "source": [
    "df['Gender'].replace(to_replace=['male','female'], value=[0,1],inplace=True)\n",
    "df.head(3)"
   ]
  },
  {
   "cell_type": "markdown",
   "metadata": {},
   "source": [
    "<div class=\"alert alert-block alert-warning\">\n",
    "<H5>\n",
    "3) Because education seems to have a significant impact, let's explore it further\n",
    "</H5></div>"
   ]
  },
  {
   "cell_type": "code",
   "execution_count": 12,
   "metadata": {},
   "outputs": [
    {
     "data": {
      "text/plain": [
       "education             loan_status\n",
       "Bechalor              PAIDOFF        0.750000\n",
       "                      COLLECTION     0.250000\n",
       "High School or Below  PAIDOFF        0.741722\n",
       "                      COLLECTION     0.258278\n",
       "Master or Above       COLLECTION     0.500000\n",
       "                      PAIDOFF        0.500000\n",
       "college               PAIDOFF        0.765101\n",
       "                      COLLECTION     0.234899\n",
       "Name: loan_status, dtype: float64"
      ]
     },
     "execution_count": 12,
     "metadata": {},
     "output_type": "execute_result"
    }
   ],
   "source": [
    "df.groupby(['education'])['loan_status'].value_counts(normalize=True)"
   ]
  },
  {
   "cell_type": "markdown",
   "metadata": {},
   "source": [
    "#### We again see that people with education'Master or Above' are indifferent, so we will drop this group later  (or we can drop these rows from dataframe)"
   ]
  },
  {
   "cell_type": "markdown",
   "metadata": {},
   "source": [
    "<div class=\"alert alert-block alert-warning\">\n",
    "<H5>\n",
    "4) Because 'dayofweek' seems to have a significant impact, let's explore it further\n",
    "</H5></div>"
   ]
  },
  {
   "cell_type": "code",
   "execution_count": 13,
   "metadata": {},
   "outputs": [
    {
     "data": {
      "text/plain": [
       "dayofweek  loan_status\n",
       "0          PAIDOFF        0.965517\n",
       "           COLLECTION     0.034483\n",
       "1          PAIDOFF        1.000000\n",
       "2          PAIDOFF        1.000000\n",
       "3          PAIDOFF        1.000000\n",
       "4          COLLECTION     0.500000\n",
       "           PAIDOFF        0.500000\n",
       "5          PAIDOFF        0.548387\n",
       "           COLLECTION     0.451613\n",
       "6          PAIDOFF        0.608434\n",
       "           COLLECTION     0.391566\n",
       "Name: loan_status, dtype: float64"
      ]
     },
     "execution_count": 13,
     "metadata": {},
     "output_type": "execute_result"
    }
   ],
   "source": [
    "df.groupby(['dayofweek'])['loan_status'].value_counts(normalize=True)"
   ]
  },
  {
   "cell_type": "markdown",
   "metadata": {},
   "source": [
    "<H4>\n",
    "We see that people who get the loan at the end of the week don't pay it off. <br><br>\n",
    "So, let's use Feature binarization to set a threshold value greater than day 3 \n",
    "in a new column 'weekend'\n",
    "</H4>"
   ]
  },
  {
   "cell_type": "code",
   "execution_count": 14,
   "metadata": {},
   "outputs": [
    {
     "data": {
      "text/html": [
       "<div>\n",
       "<style scoped>\n",
       "    .dataframe tbody tr th:only-of-type {\n",
       "        vertical-align: middle;\n",
       "    }\n",
       "\n",
       "    .dataframe tbody tr th {\n",
       "        vertical-align: top;\n",
       "    }\n",
       "\n",
       "    .dataframe thead th {\n",
       "        text-align: right;\n",
       "    }\n",
       "</style>\n",
       "<table border=\"1\" class=\"dataframe\">\n",
       "  <thead>\n",
       "    <tr style=\"text-align: right;\">\n",
       "      <th></th>\n",
       "      <th>Unnamed: 0</th>\n",
       "      <th>Unnamed: 0.1</th>\n",
       "      <th>loan_status</th>\n",
       "      <th>Principal</th>\n",
       "      <th>terms</th>\n",
       "      <th>effective_date</th>\n",
       "      <th>due_date</th>\n",
       "      <th>age</th>\n",
       "      <th>education</th>\n",
       "      <th>Gender</th>\n",
       "      <th>dayofweek</th>\n",
       "      <th>weekend</th>\n",
       "    </tr>\n",
       "  </thead>\n",
       "  <tbody>\n",
       "    <tr>\n",
       "      <th>0</th>\n",
       "      <td>0</td>\n",
       "      <td>0</td>\n",
       "      <td>PAIDOFF</td>\n",
       "      <td>1000</td>\n",
       "      <td>30</td>\n",
       "      <td>2016-09-08</td>\n",
       "      <td>2016-10-07</td>\n",
       "      <td>45</td>\n",
       "      <td>High School or Below</td>\n",
       "      <td>0</td>\n",
       "      <td>3</td>\n",
       "      <td>0</td>\n",
       "    </tr>\n",
       "    <tr>\n",
       "      <th>1</th>\n",
       "      <td>2</td>\n",
       "      <td>2</td>\n",
       "      <td>PAIDOFF</td>\n",
       "      <td>1000</td>\n",
       "      <td>30</td>\n",
       "      <td>2016-09-08</td>\n",
       "      <td>2016-10-07</td>\n",
       "      <td>33</td>\n",
       "      <td>Bechalor</td>\n",
       "      <td>1</td>\n",
       "      <td>3</td>\n",
       "      <td>0</td>\n",
       "    </tr>\n",
       "    <tr>\n",
       "      <th>2</th>\n",
       "      <td>3</td>\n",
       "      <td>3</td>\n",
       "      <td>PAIDOFF</td>\n",
       "      <td>1000</td>\n",
       "      <td>15</td>\n",
       "      <td>2016-09-08</td>\n",
       "      <td>2016-09-22</td>\n",
       "      <td>27</td>\n",
       "      <td>college</td>\n",
       "      <td>0</td>\n",
       "      <td>3</td>\n",
       "      <td>0</td>\n",
       "    </tr>\n",
       "    <tr>\n",
       "      <th>3</th>\n",
       "      <td>4</td>\n",
       "      <td>4</td>\n",
       "      <td>PAIDOFF</td>\n",
       "      <td>1000</td>\n",
       "      <td>30</td>\n",
       "      <td>2016-09-09</td>\n",
       "      <td>2016-10-08</td>\n",
       "      <td>28</td>\n",
       "      <td>college</td>\n",
       "      <td>1</td>\n",
       "      <td>4</td>\n",
       "      <td>1</td>\n",
       "    </tr>\n",
       "    <tr>\n",
       "      <th>4</th>\n",
       "      <td>6</td>\n",
       "      <td>6</td>\n",
       "      <td>PAIDOFF</td>\n",
       "      <td>1000</td>\n",
       "      <td>30</td>\n",
       "      <td>2016-09-09</td>\n",
       "      <td>2016-10-08</td>\n",
       "      <td>29</td>\n",
       "      <td>college</td>\n",
       "      <td>0</td>\n",
       "      <td>4</td>\n",
       "      <td>1</td>\n",
       "    </tr>\n",
       "  </tbody>\n",
       "</table>\n",
       "</div>"
      ],
      "text/plain": [
       "   Unnamed: 0  Unnamed: 0.1 loan_status  Principal  terms effective_date  \\\n",
       "0           0             0     PAIDOFF       1000     30     2016-09-08   \n",
       "1           2             2     PAIDOFF       1000     30     2016-09-08   \n",
       "2           3             3     PAIDOFF       1000     15     2016-09-08   \n",
       "3           4             4     PAIDOFF       1000     30     2016-09-09   \n",
       "4           6             6     PAIDOFF       1000     30     2016-09-09   \n",
       "\n",
       "    due_date  age             education  Gender  dayofweek  weekend  \n",
       "0 2016-10-07   45  High School or Below       0          3        0  \n",
       "1 2016-10-07   33              Bechalor       1          3        0  \n",
       "2 2016-09-22   27               college       0          3        0  \n",
       "3 2016-10-08   28               college       1          4        1  \n",
       "4 2016-10-08   29               college       0          4        1  "
      ]
     },
     "execution_count": 14,
     "metadata": {},
     "output_type": "execute_result"
    }
   ],
   "source": [
    "df['weekend'] = df['dayofweek'].apply(lambda x: 1 if (x>3)  else 0)\n",
    "df.head()"
   ]
  },
  {
   "cell_type": "markdown",
   "metadata": {},
   "source": [
    "## One Hot Encoding \n",
    "<div class=\"alert alert-block alert-warning\">\n",
    "<H5>\n",
    "Many machine learning algorithms cannot operate on label data directly. <br>\n",
    "They require all input variables and output variables to be numeric. <br>\n",
    "For categorical variables where no such ordinal relationship exists, the integer encoding is not enough. <br>\n",
    "In this case, a one-hot encoding can be applied to the integer representation. \n",
    "</H5></div>"
   ]
  },
  {
   "cell_type": "markdown",
   "metadata": {},
   "source": [
    "#### Select Important Features before One Hot Encoding"
   ]
  },
  {
   "cell_type": "code",
   "execution_count": 15,
   "metadata": {},
   "outputs": [
    {
     "data": {
      "text/html": [
       "<div>\n",
       "<style scoped>\n",
       "    .dataframe tbody tr th:only-of-type {\n",
       "        vertical-align: middle;\n",
       "    }\n",
       "\n",
       "    .dataframe tbody tr th {\n",
       "        vertical-align: top;\n",
       "    }\n",
       "\n",
       "    .dataframe thead th {\n",
       "        text-align: right;\n",
       "    }\n",
       "</style>\n",
       "<table border=\"1\" class=\"dataframe\">\n",
       "  <thead>\n",
       "    <tr style=\"text-align: right;\">\n",
       "      <th></th>\n",
       "      <th>Principal</th>\n",
       "      <th>terms</th>\n",
       "      <th>age</th>\n",
       "      <th>Gender</th>\n",
       "      <th>weekend</th>\n",
       "      <th>education</th>\n",
       "    </tr>\n",
       "  </thead>\n",
       "  <tbody>\n",
       "    <tr>\n",
       "      <th>0</th>\n",
       "      <td>1000</td>\n",
       "      <td>30</td>\n",
       "      <td>45</td>\n",
       "      <td>0</td>\n",
       "      <td>0</td>\n",
       "      <td>High School or Below</td>\n",
       "    </tr>\n",
       "    <tr>\n",
       "      <th>1</th>\n",
       "      <td>1000</td>\n",
       "      <td>30</td>\n",
       "      <td>33</td>\n",
       "      <td>1</td>\n",
       "      <td>0</td>\n",
       "      <td>Bechalor</td>\n",
       "    </tr>\n",
       "    <tr>\n",
       "      <th>2</th>\n",
       "      <td>1000</td>\n",
       "      <td>15</td>\n",
       "      <td>27</td>\n",
       "      <td>0</td>\n",
       "      <td>0</td>\n",
       "      <td>college</td>\n",
       "    </tr>\n",
       "    <tr>\n",
       "      <th>3</th>\n",
       "      <td>1000</td>\n",
       "      <td>30</td>\n",
       "      <td>28</td>\n",
       "      <td>1</td>\n",
       "      <td>1</td>\n",
       "      <td>college</td>\n",
       "    </tr>\n",
       "    <tr>\n",
       "      <th>4</th>\n",
       "      <td>1000</td>\n",
       "      <td>30</td>\n",
       "      <td>29</td>\n",
       "      <td>0</td>\n",
       "      <td>1</td>\n",
       "      <td>college</td>\n",
       "    </tr>\n",
       "  </tbody>\n",
       "</table>\n",
       "</div>"
      ],
      "text/plain": [
       "   Principal  terms  age  Gender  weekend             education\n",
       "0       1000     30   45       0        0  High School or Below\n",
       "1       1000     30   33       1        0              Bechalor\n",
       "2       1000     15   27       0        0               college\n",
       "3       1000     30   28       1        1               college\n",
       "4       1000     30   29       0        1               college"
      ]
     },
     "execution_count": 15,
     "metadata": {},
     "output_type": "execute_result"
    }
   ],
   "source": [
    "df[['Principal','terms','age','Gender','weekend','education']].head()"
   ]
  },
  {
   "cell_type": "markdown",
   "metadata": {},
   "source": [
    "\n",
    "#### We will now use one hot encoding technique to conver categorical varables to binary variables\n",
    "#### after which we will append them to the 'Feature' Data Frame\n"
   ]
  },
  {
   "cell_type": "code",
   "execution_count": 16,
   "metadata": {},
   "outputs": [
    {
     "data": {
      "text/html": [
       "<div>\n",
       "<style scoped>\n",
       "    .dataframe tbody tr th:only-of-type {\n",
       "        vertical-align: middle;\n",
       "    }\n",
       "\n",
       "    .dataframe tbody tr th {\n",
       "        vertical-align: top;\n",
       "    }\n",
       "\n",
       "    .dataframe thead th {\n",
       "        text-align: right;\n",
       "    }\n",
       "</style>\n",
       "<table border=\"1\" class=\"dataframe\">\n",
       "  <thead>\n",
       "    <tr style=\"text-align: right;\">\n",
       "      <th></th>\n",
       "      <th>Principal</th>\n",
       "      <th>terms</th>\n",
       "      <th>age</th>\n",
       "      <th>Gender</th>\n",
       "      <th>weekend</th>\n",
       "      <th>Bechalor</th>\n",
       "      <th>High School or Below</th>\n",
       "      <th>college</th>\n",
       "    </tr>\n",
       "  </thead>\n",
       "  <tbody>\n",
       "    <tr>\n",
       "      <th>0</th>\n",
       "      <td>1000</td>\n",
       "      <td>30</td>\n",
       "      <td>45</td>\n",
       "      <td>0</td>\n",
       "      <td>0</td>\n",
       "      <td>0</td>\n",
       "      <td>1</td>\n",
       "      <td>0</td>\n",
       "    </tr>\n",
       "    <tr>\n",
       "      <th>1</th>\n",
       "      <td>1000</td>\n",
       "      <td>30</td>\n",
       "      <td>33</td>\n",
       "      <td>1</td>\n",
       "      <td>0</td>\n",
       "      <td>1</td>\n",
       "      <td>0</td>\n",
       "      <td>0</td>\n",
       "    </tr>\n",
       "    <tr>\n",
       "      <th>2</th>\n",
       "      <td>1000</td>\n",
       "      <td>15</td>\n",
       "      <td>27</td>\n",
       "      <td>0</td>\n",
       "      <td>0</td>\n",
       "      <td>0</td>\n",
       "      <td>0</td>\n",
       "      <td>1</td>\n",
       "    </tr>\n",
       "    <tr>\n",
       "      <th>3</th>\n",
       "      <td>1000</td>\n",
       "      <td>30</td>\n",
       "      <td>28</td>\n",
       "      <td>1</td>\n",
       "      <td>1</td>\n",
       "      <td>0</td>\n",
       "      <td>0</td>\n",
       "      <td>1</td>\n",
       "    </tr>\n",
       "    <tr>\n",
       "      <th>4</th>\n",
       "      <td>1000</td>\n",
       "      <td>30</td>\n",
       "      <td>29</td>\n",
       "      <td>0</td>\n",
       "      <td>1</td>\n",
       "      <td>0</td>\n",
       "      <td>0</td>\n",
       "      <td>1</td>\n",
       "    </tr>\n",
       "  </tbody>\n",
       "</table>\n",
       "</div>"
      ],
      "text/plain": [
       "   Principal  terms  age  Gender  weekend  Bechalor  High School or Below  \\\n",
       "0       1000     30   45       0        0         0                     1   \n",
       "1       1000     30   33       1        0         1                     0   \n",
       "2       1000     15   27       0        0         0                     0   \n",
       "3       1000     30   28       1        1         0                     0   \n",
       "4       1000     30   29       0        1         0                     0   \n",
       "\n",
       "   college  \n",
       "0        0  \n",
       "1        0  \n",
       "2        1  \n",
       "3        1  \n",
       "4        1  "
      ]
     },
     "execution_count": 16,
     "metadata": {},
     "output_type": "execute_result"
    }
   ],
   "source": [
    "Feature = df[['Principal','terms','age','Gender','weekend']]\n",
    "Feature = pd.concat([Feature,pd.get_dummies(df['education'])], axis=1)\n",
    "Feature.drop(['Master or Above'], axis = 1,inplace=True) # Because this group is indefferent, as seen above\n",
    "Feature.head()"
   ]
  },
  {
   "cell_type": "markdown",
   "metadata": {},
   "source": [
    "### Feature Selection\n",
    "<div class=\"alert alert-block alert-warning\">\n",
    "<H5>\n",
    "Let's define 'Feature' as set, 'X':\n",
    "</H5></div>"
   ]
  },
  {
   "cell_type": "code",
   "execution_count": 17,
   "metadata": {},
   "outputs": [
    {
     "data": {
      "text/html": [
       "<div>\n",
       "<style scoped>\n",
       "    .dataframe tbody tr th:only-of-type {\n",
       "        vertical-align: middle;\n",
       "    }\n",
       "\n",
       "    .dataframe tbody tr th {\n",
       "        vertical-align: top;\n",
       "    }\n",
       "\n",
       "    .dataframe thead th {\n",
       "        text-align: right;\n",
       "    }\n",
       "</style>\n",
       "<table border=\"1\" class=\"dataframe\">\n",
       "  <thead>\n",
       "    <tr style=\"text-align: right;\">\n",
       "      <th></th>\n",
       "      <th>Principal</th>\n",
       "      <th>terms</th>\n",
       "      <th>age</th>\n",
       "      <th>Gender</th>\n",
       "      <th>weekend</th>\n",
       "      <th>Bechalor</th>\n",
       "      <th>High School or Below</th>\n",
       "      <th>college</th>\n",
       "    </tr>\n",
       "  </thead>\n",
       "  <tbody>\n",
       "    <tr>\n",
       "      <th>0</th>\n",
       "      <td>1000</td>\n",
       "      <td>30</td>\n",
       "      <td>45</td>\n",
       "      <td>0</td>\n",
       "      <td>0</td>\n",
       "      <td>0</td>\n",
       "      <td>1</td>\n",
       "      <td>0</td>\n",
       "    </tr>\n",
       "    <tr>\n",
       "      <th>1</th>\n",
       "      <td>1000</td>\n",
       "      <td>30</td>\n",
       "      <td>33</td>\n",
       "      <td>1</td>\n",
       "      <td>0</td>\n",
       "      <td>1</td>\n",
       "      <td>0</td>\n",
       "      <td>0</td>\n",
       "    </tr>\n",
       "    <tr>\n",
       "      <th>2</th>\n",
       "      <td>1000</td>\n",
       "      <td>15</td>\n",
       "      <td>27</td>\n",
       "      <td>0</td>\n",
       "      <td>0</td>\n",
       "      <td>0</td>\n",
       "      <td>0</td>\n",
       "      <td>1</td>\n",
       "    </tr>\n",
       "    <tr>\n",
       "      <th>3</th>\n",
       "      <td>1000</td>\n",
       "      <td>30</td>\n",
       "      <td>28</td>\n",
       "      <td>1</td>\n",
       "      <td>1</td>\n",
       "      <td>0</td>\n",
       "      <td>0</td>\n",
       "      <td>1</td>\n",
       "    </tr>\n",
       "    <tr>\n",
       "      <th>4</th>\n",
       "      <td>1000</td>\n",
       "      <td>30</td>\n",
       "      <td>29</td>\n",
       "      <td>0</td>\n",
       "      <td>1</td>\n",
       "      <td>0</td>\n",
       "      <td>0</td>\n",
       "      <td>1</td>\n",
       "    </tr>\n",
       "  </tbody>\n",
       "</table>\n",
       "</div>"
      ],
      "text/plain": [
       "   Principal  terms  age  Gender  weekend  Bechalor  High School or Below  \\\n",
       "0       1000     30   45       0        0         0                     1   \n",
       "1       1000     30   33       1        0         1                     0   \n",
       "2       1000     15   27       0        0         0                     0   \n",
       "3       1000     30   28       1        1         0                     0   \n",
       "4       1000     30   29       0        1         0                     0   \n",
       "\n",
       "   college  \n",
       "0        0  \n",
       "1        0  \n",
       "2        1  \n",
       "3        1  \n",
       "4        1  "
      ]
     },
     "execution_count": 17,
     "metadata": {},
     "output_type": "execute_result"
    }
   ],
   "source": [
    "X = Feature\n",
    "X[0:5]"
   ]
  },
  {
   "cell_type": "markdown",
   "metadata": {},
   "source": [
    "<div class=\"alert alert-block alert-warning\">\n",
    "<H5>\n",
    "Let's define our Labels\n",
    "</H5></div>"
   ]
  },
  {
   "cell_type": "code",
   "execution_count": 18,
   "metadata": {},
   "outputs": [
    {
     "data": {
      "text/plain": [
       "array(['PAIDOFF', 'PAIDOFF', 'PAIDOFF', 'PAIDOFF', 'PAIDOFF'],\n",
       "      dtype=object)"
      ]
     },
     "execution_count": 18,
     "metadata": {},
     "output_type": "execute_result"
    }
   ],
   "source": [
    "y = df['loan_status'].values\n",
    "y[0:5]"
   ]
  },
  {
   "cell_type": "markdown",
   "metadata": {},
   "source": [
    "## Normalize Data\n",
    "<div class=\"alert alert-block alert-warning\">\n",
    "<H5>\n",
    "Data Standardization give data zero mean and unit variance (technically should be done after train test split)\n",
    "</H5></div>"
   ]
  },
  {
   "cell_type": "code",
   "execution_count": 19,
   "metadata": {},
   "outputs": [
    {
     "data": {
      "text/plain": [
       "array([[ 0.51578458,  0.92071769,  2.33152555, -0.42056004, -1.20577805,\n",
       "        -0.38170062,  1.13639374, -0.86968108],\n",
       "       [ 0.51578458,  0.92071769,  0.34170148,  2.37778177, -1.20577805,\n",
       "         2.61985426, -0.87997669, -0.86968108],\n",
       "       [ 0.51578458, -0.95911111, -0.65321055, -0.42056004, -1.20577805,\n",
       "        -0.38170062, -0.87997669,  1.14984679],\n",
       "       [ 0.51578458,  0.92071769, -0.48739188,  2.37778177,  0.82934003,\n",
       "        -0.38170062, -0.87997669,  1.14984679],\n",
       "       [ 0.51578458,  0.92071769, -0.3215732 , -0.42056004,  0.82934003,\n",
       "        -0.38170062, -0.87997669,  1.14984679]])"
      ]
     },
     "execution_count": 19,
     "metadata": {},
     "output_type": "execute_result"
    }
   ],
   "source": [
    "X= preprocessing.StandardScaler().fit(X).transform(X)\n",
    "X[0:5]"
   ]
  },
  {
   "cell_type": "markdown",
   "metadata": {},
   "source": [
    "# Classification\n",
    "<div class=\"alert alert-block alert-danger\">\n",
    "<H4>\n",
    "Now, it is your turn, use the training set to build an accurate model. <br>\n",
    "Then use the test set to report the accuracy of the model <br><br>\n",
    "You should use the following algorithm:\n",
    "\n",
    "*   K Nearest Neighbor(KNN)\n",
    "*   Decision Tree\n",
    "*   Support Vector Machine\n",
    "*   Logistic Regression\n",
    "\n",
    "\\__ Notice:\\__\n",
    "\n",
    "*   You can go above and change the pre-processing, feature selection, feature-extraction, and so on, to make a better model.\n",
    "*   You should use either scikit-learn, Scipy or Numpy libraries for developing the classification algorithms.\n",
    "*   You should include the code of the algorithm in the following cells.\n",
    "</H4></div>"
   ]
  },
  {
   "cell_type": "markdown",
   "metadata": {},
   "source": [
    "# K Nearest Neighbor(KNN)\n",
    "\n",
    "Notice: You should find the best k to build the model with the best accuracy.\\\n",
    "**warning:** You should not use the **loan_test.csv** for finding the best k, however, you can split your train_loan.csv into train and test to find the best **k**.\n",
    "\n",
    "<div class=\"alert alert-block alert-success\">\n",
    "<H6>\n",
    "\n",
    "K in KNN, is the number of nearest neighbors to examine. <br> \n",
    "It is supposed to be specified by the user. <br> \n",
    "So, how can we choose right value for K? <br> \n",
    "The general solution is to reserve a part of your data for testing the accuracy of the model. <br>  \n",
    "Then choose k =1, use the training part for modeling, and calculate the accuracy of prediction using all samples in your test set. <br>  \n",
    "Repeat this process, increasing the k, and see which k is the best for your model. <br> \n",
    "We can calculate the accuracy of KNN for different values of k.\n",
    "\n",
    "</H6></div>"
   ]
  },
  {
   "cell_type": "markdown",
   "metadata": {},
   "source": [
    "##### Because we can split our train_loan.csv into train and test to find the best k.\n",
    "##### So, we Split Feature X above {which has selected loan.csv columns} into Train Set & Test Set:"
   ]
  },
  {
   "cell_type": "code",
   "execution_count": 20,
   "metadata": {},
   "outputs": [
    {
     "name": "stdout",
     "output_type": "stream",
     "text": [
      "Train set:  (276, 8) (276,)\n",
      "Test set:  (70, 8) (70,)\n"
     ]
    }
   ],
   "source": [
    "X_train, X_test, y_train, y_test = train_test_split(X, y, test_size=0.2, random_state=4)\n",
    "\n",
    "print(\"Train set: \", X_train.shape, y_train.shape)\n",
    "print(\"Test set: \", X_test.shape, y_test.shape)"
   ]
  },
  {
   "cell_type": "markdown",
   "metadata": {},
   "source": [
    "##### Now fit the model and measure accuracy"
   ]
  },
  {
   "cell_type": "code",
   "execution_count": 21,
   "metadata": {},
   "outputs": [
    {
     "name": "stdout",
     "output_type": "stream",
     "text": [
      "1 0.6714285714285714\n",
      "2 0.6571428571428571\n",
      "3 0.7142857142857143\n",
      "4 0.6857142857142857\n",
      "5 0.7571428571428571\n"
     ]
    }
   ],
   "source": [
    "k = 12\n",
    "mean_acc = np.zeros((k-1))\n",
    "std_acc = np.zeros((k-1))\n",
    "\n",
    "#We fit the model:\n",
    "kNN_model = KNeighborsClassifier(n_neighbors=k).fit(X_train, y_train)\n",
    "kNN_model\n",
    "y_pred = kNN_model.predict( X_test )\n",
    "\n",
    "#Find the max value\n",
    "accuracies = {}\n",
    "k_max = 1\n",
    "acc_max = 0\n",
    "for k in range(1, 6): # No of rows to print\n",
    "    kNN_model = KNeighborsClassifier(n_neighbors=k).fit(X_train, y_train)\n",
    "    y_pred = kNN_model.predict( X_test ) #yhat\n",
    "    \n",
    "    mean_acc[k-1] = metrics.accuracy_score(y_test, y_pred)    \n",
    "    std_acc[k-1]=np.std(y_pred==y_test)/np.sqrt(y_pred.shape[0])\n",
    "    \n",
    "    accuracies[k] = accuracy_score(y_test, y_pred)\n",
    "    print(k, accuracies[k])"
   ]
  },
  {
   "cell_type": "code",
   "execution_count": 22,
   "metadata": {},
   "outputs": [
    {
     "data": {
      "text/plain": [
       "array([0.67142857, 0.65714286, 0.71428571, 0.68571429, 0.75714286,\n",
       "       0.71428571, 0.78571429, 0.75714286, 0.75714286, 0.67142857,\n",
       "       0.7       ])"
      ]
     },
     "execution_count": 22,
     "metadata": {},
     "output_type": "execute_result"
    }
   ],
   "source": [
    "k = 12\n",
    "mean_acc = np.zeros((k-1))\n",
    "std_acc = np.zeros((k-1))\n",
    "\n",
    "for n in range(1,k):\n",
    "    \n",
    "    #Train Model and Predict  \n",
    "    kNN_model = KNeighborsClassifier(n_neighbors = n).fit(X_train,y_train)\n",
    "    yhat = kNN_model.predict(X_test)\n",
    "    \n",
    "    mean_acc[n-1] = metrics.accuracy_score(y_test, yhat)    \n",
    "    std_acc[n-1]=np.std(yhat==y_test)/np.sqrt(yhat.shape[0])\n",
    "    #print(k, mean_acc[k])\n",
    "mean_acc"
   ]
  },
  {
   "cell_type": "markdown",
   "metadata": {},
   "source": [
    "<div class=\"alert alert-block alert-warning\">\n",
    "<H5>\n",
    "Let's plot the k value with Best Accuracy Score \n",
    "</H5></div>\n"
   ]
  },
  {
   "cell_type": "code",
   "execution_count": 23,
   "metadata": {},
   "outputs": [
    {
     "data": {
      "image/png": "[encoded data removed]",
      "text/plain": [
       "<Figure size 432x288 with 1 Axes>"
      ]
     },
     "metadata": {
      "needs_background": "light"
     },
     "output_type": "display_data"
    },
    {
     "name": "stdout",
     "output_type": "stream",
     "text": [
      "The best accuracy was  0.7857142857142857 with k= 7\n"
     ]
    }
   ],
   "source": [
    "plt.plot(range(1,k),mean_acc,'g')\n",
    "plt.fill_between(range(1,k),mean_acc - 1 * std_acc,mean_acc + 1 * std_acc, alpha=0.10)\n",
    "plt.fill_between(range(1,k),mean_acc - 3 * std_acc,mean_acc + 3 * std_acc, alpha=0.10,color=\"yellow\")\n",
    "plt.legend(('Accuracy ', '+/- 1xstd','+/- 3xstd'))\n",
    "plt.ylabel('Accuracy ')\n",
    "plt.xlabel('Number of Neighbors (K)')\n",
    "plt.tight_layout()\n",
    "plt.show()\n",
    "plt.show()\n",
    "print( \"The best accuracy was \", mean_acc.max(), \"with k=\", mean_acc.argmax()+1) \n"
   ]
  },
  {
   "cell_type": "markdown",
   "metadata": {},
   "source": [
    "<div class=\"alert alert-block alert-warning\">\n",
    "<H5>\n",
    "Now, Fit & Train the model with k value with Best Jaccard & F1 Accuracy Score \n",
    "</H5></div>"
   ]
  },
  {
   "cell_type": "code",
   "execution_count": 24,
   "metadata": {},
   "outputs": [
    {
     "name": "stdout",
     "output_type": "stream",
     "text": [
      "Train set Accuracy (Jaccard):  0.8079710144927537\n",
      "Test set Accuracy (Jaccard):  0.7857142857142857\n",
      "Train set Accuracy (F1):  0.8000194668761034\n",
      "Test set Accuracy (F1):  0.7766540244416351\n"
     ]
    }
   ],
   "source": [
    "#Training the model\n",
    "knn_model = KNeighborsClassifier(n_neighbors=mean_acc.argmax()+1).fit(X_train, y_train)\n",
    "print(\"Train set Accuracy (Jaccard): \", metrics.accuracy_score(y_train, knn_model.predict(X_train)))\n",
    "print(\"Test set Accuracy (Jaccard): \", metrics.accuracy_score(y_test, knn_model.predict(X_test)))\n",
    "\n",
    "print(\"Train set Accuracy (F1): \", f1_score(y_train, knn_model.predict(X_train), average='weighted'))\n",
    "print(\"Test set Accuracy (F1): \", f1_score(y_test, knn_model.predict(X_test), average='weighted'))"
   ]
  },
  {
   "cell_type": "markdown",
   "metadata": {},
   "source": [
    "# Decision Tree\n",
    "<div class=\"alert alert-block alert-success\">\n",
    "<H5>\n",
    "\n",
    "A decision tree is a flowchart-like structure in which each internal node represents a \"test\" on an attribute <br>\n",
    "(e.g. whether a coin flip comes up heads or tails), each branch represents the outcome of the test, <br>\n",
    "and each leaf node represents a class label (decision taken after computing all attributes). <br> <br>\n",
    "\n",
    "To make a Decision Tre: <br>\n",
    "1) First, choose an attribute from our dataset. <br>\n",
    "2) Calculate the significance of the attribute in the splitting of the data. <br>\n",
    "3) Split the data based on the value of the best attribute, <br>\n",
    "4) Then, go to each branch and repeat it for the rest of the attributes. \n",
    "\n",
    "</H5></div>"
   ]
  },
  {
   "cell_type": "code",
   "execution_count": 25,
   "metadata": {},
   "outputs": [
    {
     "name": "stdout",
     "output_type": "stream",
     "text": [
      "1 0.7857142857142857\n",
      "2 0.7857142857142857\n",
      "3 0.6142857142857143\n",
      "4 0.6142857142857143\n",
      "5 0.6428571428571429\n",
      "6 0.7714285714285715\n",
      "7 0.7571428571428571\n",
      "8 0.7571428571428571\n",
      "9 0.6571428571428571\n"
     ]
    }
   ],
   "source": [
    "from sklearn.tree import DecisionTreeClassifier\n",
    "for d in range(1,10):\n",
    "    dt = DecisionTreeClassifier(criterion = 'entropy', max_depth = d).fit(X_train, y_train)\n",
    "    y_pred = dt.predict(X_test)\n",
    "    print(d, accuracy_score(y_test, y_pred))\n",
    "    "
   ]
  },
  {
   "cell_type": "markdown",
   "metadata": {},
   "source": [
    "<div class=\"alert alert-block alert-warning\">\n",
    "<H5>\n",
    "Tree depth is a measure of how many splits a tree can make before coming to a prediction.<br><br>\n",
    "Now, Fit the model with desired Tree Depth and & Train with Best Jaccard & F1 Accuracy Scores \n",
    "</H5></div>"
   ]
  },
  {
   "cell_type": "code",
   "execution_count": 26,
   "metadata": {},
   "outputs": [
    {
     "name": "stdout",
     "output_type": "stream",
     "text": [
      "We take depth = 2\n",
      "Train set Accuracy (Jaccard):  0.7427536231884058\n",
      "Test set Accuracy (Jaccard):  0.7857142857142857\n",
      "Train set Accuracy (F1):  0.6331163939859591\n",
      "Test set Accuracy (F1):  0.6914285714285714\n"
     ]
    }
   ],
   "source": [
    "print(\"We take depth = 2\")\n",
    "dt = DecisionTreeClassifier(criterion=\"entropy\", max_depth=2).fit(X_train, y_train)\n",
    "\n",
    "print(\"Train set Accuracy (Jaccard): \", metrics.accuracy_score(y_train, dt.predict(X_train)))\n",
    "print(\"Test set Accuracy (Jaccard): \", metrics.accuracy_score(y_test, dt.predict(X_test)))\n",
    "\n",
    "print(\"Train set Accuracy (F1): \", f1_score(y_train, dt.predict(X_train), average='weighted'))\n",
    "print(\"Test set Accuracy (F1): \", f1_score(y_test, dt.predict(X_test), average='weighted'))\n"
   ]
  },
  {
   "cell_type": "markdown",
   "metadata": {},
   "source": [
    "<div class=\"alert alert-block alert-warning\">\n",
    "<H5>\n",
    "Now, Visualize Decision Tree\n",
    "</H5></div>"
   ]
  },
  {
   "cell_type": "markdown",
   "metadata": {},
   "source": [
    "# Support Vector Machine"
   ]
  },
  {
   "cell_type": "markdown",
   "metadata": {},
   "source": [
    "<div class=\"alert alert-block alert-success\">\n",
    "<H5>\n",
    "A Support Vector Machine is a supervised algorithm that can classify cases by finding a separator. <br>\n",
    "Basically, SVMs are based on the idea of finding a hyperplane that best divides a data set into two classes <br>\n",
    "So the goal is to choose a hyperplane with as big a margin as possible. <br><br> \n",
    "\n",
    "SVM works by first mapping data to a high dimensional feature space so that data points <br> \n",
    "can be categorized, even when the data are not otherwise linearly separable. <br> \n",
    "Then, a separator is estimated for the data. <br>\n",
    "The data should be transformed in such a way that a separator could be drawn as a hyperplane. <br><br>\n",
    "\n",
    "This mapping of data into a higher-dimensional space is called, kernelling.  <br>\n",
    "The mathematical function used for the transformation is known as the kernel function, <br>\n",
    "and can be of different types, such as:  <br>\n",
    "1) linear <br>\n",
    "2) polynomial <br>\n",
    "3) Radial Basis Function,or RBF, and <br>\n",
    "4) sigmoid. <br><br>\n",
    "\n",
    "There are many ways to choose best kernelling method:\n",
    "1) The F1 score: <br>\n",
    "The F1 score is calculated based on the precision and recall of each class. <br> \n",
    "It is the weighted average of the Precision and the recall scores. <br> \n",
    "The F1 score reaches its perfect value at one and worst at 0. <br> \n",
    "It is a very good way to show that a classifies has a good recall and precision values. <br>\n",
    "Hence, we will choose a classifier with highest F1 Score. <br>\n",
    "\n",
    "2) The Jaccard index: <br>\n",
    "The idea behind this index is that higher the similarity of these two groups the higher the index. <br>\n",
    "Hence, the higher the score, the better the model. <br>\n",
    "\n",
    "Source: https://towardsdatascience.com/common-classification-model-evaluation-metrics-2ba0a7a7436e\n",
    "\n",
    "</H5></div>"
   ]
  },
  {
   "cell_type": "markdown",
   "metadata": {},
   "source": [
    "#### Evaluate Best Kernelling Method"
   ]
  },
  {
   "cell_type": "code",
   "execution_count": 27,
   "metadata": {},
   "outputs": [
    {
     "name": "stdout",
     "output_type": "stream",
     "text": [
      "For kernel: linear, the f1 score is: 0.6914285714285714\n",
      "For kernel: poly, the f1 score is: 0.7064793130366899\n",
      "For kernel: rbf, the f1 score is: 0.7275882012724117\n",
      "For kernel: sigmoid, the f1 score is: 0.6892857142857144\n"
     ]
    }
   ],
   "source": [
    "for k in ('linear', 'poly', 'rbf','sigmoid'):\n",
    "    svm_model = svm.SVC( kernel = k).fit(X_train,y_train)\n",
    "    svm_yhat = svm_model.predict(X_test)\n",
    "    print(\"For kernel: {}, the f1 score is: {}\".format(k,f1_score(y_test,svm_yhat, average='weighted')))"
   ]
  },
  {
   "cell_type": "markdown",
   "metadata": {},
   "source": [
    "<div class=\"alert alert-block alert-warning\">\n",
    "<H5>\n",
    "Now, use the Best Kernelling Method, Fit & Train the model with Best Jaccard & F1 Accuracy Score \n",
    "</H5></div>"
   ]
  },
  {
   "cell_type": "code",
   "execution_count": 28,
   "metadata": {},
   "outputs": [
    {
     "name": "stdout",
     "output_type": "stream",
     "text": [
      "Because The F1 score reaches its perfect value at one and worst at 0, \n",
      " So we choose rbf\n",
      "Train set Accuracy (Jaccard):  0.782608695652174\n",
      "Test set Accuracy (Jaccard):  0.7428571428571429\n",
      "Train set Accuracy (F1):  0.7682165861513688\n",
      "Test set Accuracy (F1):  0.7275882012724117\n"
     ]
    }
   ],
   "source": [
    "print(\"Because The F1 score reaches its perfect value at one and worst at 0, \\n So we choose rbf\")\n",
    "svm_model = svm.SVC( kernel = 'rbf').fit(X_train,y_train)\n",
    "\n",
    "print(\"Train set Accuracy (Jaccard): \", metrics.accuracy_score(y_train, svm_model.predict(X_train)))\n",
    "print(\"Test set Accuracy (Jaccard): \", metrics.accuracy_score(y_test, svm_model.predict(X_test)))\n",
    "\n",
    "print(\"Train set Accuracy (F1): \", f1_score(y_train, svm_model.predict(X_train), average='weighted'))\n",
    "print(\"Test set Accuracy (F1): \", f1_score(y_test, svm_model.predict(X_test), average='weighted'))"
   ]
  },
  {
   "cell_type": "markdown",
   "metadata": {},
   "source": [
    "# Logistic Regression\n",
    "<div class=\"alert alert-block alert-success\">\n",
    "<H5>\n",
    "Logistic regression estimates the probability of an event occurring, such as voted or didn't vote, based on a given dataset of independent variables.<br>\n",
    "Since the outcome is a probability, the dependent variable is bounded between 0 and 1.\n",
    "</H5></div>\n",
    "<div class=\"alert alert-block alert-warning\">\n",
    "<H5>\n",
    "Evaluating Best Kernelling Method\n",
    "</H5></div>"
   ]
  },
  {
   "cell_type": "code",
   "execution_count": 29,
   "metadata": {},
   "outputs": [
    {
     "name": "stdout",
     "output_type": "stream",
     "text": [
      "When Solver is lbfgs, logloss is : 0.4920179847937498\n",
      "When Solver is saga, logloss is : 0.49201775290701477\n",
      "When Solver is liblinear, logloss is : 0.5772287609479654\n",
      "When Solver is newton-cg, logloss is : 0.492017801467927\n",
      "When Solver is sag, logloss is : 0.4920083053846423\n"
     ]
    }
   ],
   "source": [
    "for k in ('lbfgs', 'saga', 'liblinear', 'newton-cg', 'sag'):\n",
    "    lr_model = LogisticRegression(C = 0.01, solver = k).fit(X_train, y_train)\n",
    "    lr_yhat = lr_model.predict(X_test)\n",
    "    y_prob = lr_model.predict_proba(X_test)\n",
    "    print('When Solver is {}, logloss is : {}'.format(k, log_loss(y_test, y_prob)))"
   ]
  },
  {
   "cell_type": "markdown",
   "metadata": {},
   "source": [
    "<div class=\"alert alert-block alert-warning\">\n",
    "<H5>\n",
    "Now, use the Best Kernelling Method, Fit & Train the model with Best Jaccard & F1 Accuracy Score \n",
    "</H5></div>"
   ]
  },
  {
   "cell_type": "markdown",
   "metadata": {},
   "source": [
    "###### Because the goal of LRM is to choose a hyperplane with as big a margin as possible, \\n So we choose liblinear\""
   ]
  },
  {
   "cell_type": "code",
   "execution_count": 30,
   "metadata": {},
   "outputs": [
    {
     "name": "stdout",
     "output_type": "stream",
     "text": [
      "Train set Accuracy (Jaccard):  0.7572463768115942\n",
      "Test set Accuracy (Jaccard):  0.6857142857142857\n",
      "Train set Accuracy (F1):  0.7341146337750953\n",
      "Test set Accuracy (F1):  0.6670522459996144\n"
     ]
    }
   ],
   "source": [
    "k = 'liblinear'\n",
    "lr_model = LogisticRegression(C = 0.01, solver = k).fit(X_train, y_train)\n",
    "\n",
    "print(\"Train set Accuracy (Jaccard): \", metrics.accuracy_score(y_train, lr_model.predict(X_train)))\n",
    "print(\"Test set Accuracy (Jaccard): \", metrics.accuracy_score(y_test, lr_model.predict(X_test)))\n",
    "\n",
    "print(\"Train set Accuracy (F1): \", f1_score(y_train, lr_model.predict(X_train), average='weighted'))\n",
    "print(\"Test set Accuracy (F1): \", f1_score(y_test, lr_model.predict(X_test), average='weighted'))"
   ]
  },
  {
   "cell_type": "markdown",
   "metadata": {},
   "source": [
    "# Model Evaluation using Test set"
   ]
  },
  {
   "cell_type": "markdown",
   "metadata": {},
   "source": [
    "<div class=\"alert alert-block alert-warning\">\n",
    "<H5>\n",
    "We will now download and load the test set file:\n",
    "</H5></div>"
   ]
  },
  {
   "cell_type": "code",
   "execution_count": 31,
   "metadata": {},
   "outputs": [
    {
     "name": "stdout",
     "output_type": "stream",
     "text": [
      "   Unnamed: 0  Unnamed: 0.1 loan_status  Principal  terms effective_date  \\\n",
      "0           1             1     PAIDOFF       1000     30       9/8/2016   \n",
      "1           5             5     PAIDOFF        300      7       9/9/2016   \n",
      "2          21            21     PAIDOFF       1000     30      9/10/2016   \n",
      "\n",
      "    due_date  age             education  Gender  \n",
      "0  10/7/2016   50              Bechalor  female  \n",
      "1  9/15/2016   35       Master or Above    male  \n",
      "2  10/9/2016   43  High School or Below  female  \n"
     ]
    },
    {
     "data": {
      "text/plain": [
       "(54, 10)"
      ]
     },
     "execution_count": 31,
     "metadata": {},
     "output_type": "execute_result"
    }
   ],
   "source": [
    "test_file_name= 'https://s3-api.us-geo.objectstorage.softlayer.net/cf-courses-data/CognitiveClass/ML0101ENv3/labs/loan_test.csv'\n",
    "test_df=pd.read_csv(test_file_name)\n",
    "print(test_df.head(3))\n",
    "#df.head()\n",
    "test_df.shape"
   ]
  },
  {
   "cell_type": "markdown",
   "metadata": {},
   "source": [
    "<div class=\"alert alert-block alert-warning\">\n",
    "<H5>\n",
    "Convert Columns with Date to Date-Time Object\n",
    "</H5></div>"
   ]
  },
  {
   "cell_type": "code",
   "execution_count": 32,
   "metadata": {},
   "outputs": [
    {
     "name": "stdout",
     "output_type": "stream",
     "text": [
      "   Unnamed: 0  Unnamed: 0.1 loan_status  Principal  terms effective_date  \\\n",
      "0           1             1     PAIDOFF       1000     30     2016-09-08   \n",
      "1           5             5     PAIDOFF        300      7     2016-09-09   \n",
      "2          21            21     PAIDOFF       1000     30     2016-09-10   \n",
      "\n",
      "    due_date  age             education  Gender  dayofweek  \n",
      "0 2016-10-07   50              Bechalor  female          3  \n",
      "1 2016-09-15   35       Master or Above    male          4  \n",
      "2 2016-10-09   43  High School or Below  female          5  \n"
     ]
    }
   ],
   "source": [
    "test_df['due_date'] = pd.to_datetime(test_df['due_date'])\n",
    "test_df['effective_date'] = pd.to_datetime(test_df['effective_date'])\n",
    "test_df['dayofweek'] = test_df['effective_date'].dt.dayofweek\n",
    "print(test_df.head(3))"
   ]
  },
  {
   "cell_type": "markdown",
   "metadata": {},
   "source": [
    "<div class=\"alert alert-block alert-warning\">\n",
    "<H5>\n",
    "<br>    \n",
    "We saw that people who get the loan at the end of the week don't pay it off. <br>\n",
    "So, will use Feature binarization to set a threshold value greater than day 3 in a new column 'weekend'<br><br>\n",
    "    \n",
    "We will convert male to 0 and female to 1 <br><br>\n",
    "    \n",
    "We will use selected Features above as Features1 & will employ one hot encoding technique to convert <br>\n",
    "categorical variables to binary variables after which we will append them to the 'Feature1' Data Frame <br><br>\n",
    "\n",
    "We saw that people with education'Master or Above' are indifferent, so we will drop this group from test data\n",
    "\n",
    "\n",
    "</H5></div>"
   ]
  },
  {
   "cell_type": "code",
   "execution_count": 33,
   "metadata": {},
   "outputs": [],
   "source": [
    "test_df['weekend'] = test_df['dayofweek'].apply(lambda x: 1 if (x>3)  else 0)\n",
    "\n",
    "test_df['Gender'].replace(to_replace=['male','female'], value=[0,1],inplace=True)\n",
    "\n",
    "Feature1 = test_df[['Principal','terms','age','Gender','weekend']]\n",
    "Feature1 = pd.concat([Feature1,pd.get_dummies(test_df['education'])], axis=1)  # Because this group is indefferent, as seen above\n",
    "\n",
    "Feature1.drop(['Master or Above'], axis = 1,inplace=True)"
   ]
  },
  {
   "cell_type": "markdown",
   "metadata": {},
   "source": [
    "<div class=\"alert alert-block alert-warning\">\n",
    "<H5>\n",
    "We will now normalize the test data <br><br>\n",
    "And Target Results\n",
    "</H5></div>"
   ]
  },
  {
   "cell_type": "code",
   "execution_count": 34,
   "metadata": {},
   "outputs": [],
   "source": [
    "# Normalizing Test Data\n",
    "x_loan_test = Feature1\n",
    "x_loan_test = preprocessing.StandardScaler().fit(x_loan_test).transform(x_loan_test) # Normalize Test\n",
    "\n",
    "#Targeting Results\n",
    "y_loan_test = test_df['loan_status'].values"
   ]
  },
  {
   "cell_type": "markdown",
   "metadata": {},
   "source": [
    "<div class=\"alert alert-block alert-warning\">\n",
    "<H5>\n",
    "We will now perform Jaccard Test\n",
    "</H5></div>"
   ]
  },
  {
   "cell_type": "code",
   "execution_count": 35,
   "metadata": {},
   "outputs": [
    {
     "data": {
      "text/plain": [
       "[0.7037037037037037,\n",
       " 0.7407407407407407,\n",
       " 0.7962962962962963,\n",
       " 0.7407407407407407]"
      ]
     },
     "execution_count": 35,
     "metadata": {},
     "output_type": "execute_result"
    }
   ],
   "source": [
    "#jaccard list:\n",
    "knn_pred = kNN_model.predict(x_loan_test)\n",
    "j1 = accuracy_score(y_loan_test, knn_pred)\n",
    "\n",
    "dt_pred = dt.predict(x_loan_test)\n",
    "j2 = accuracy_score(y_loan_test, dt_pred)\n",
    "\n",
    "svm_pred = svm_model.predict(x_loan_test)\n",
    "j3 = accuracy_score(y_loan_test, svm_pred)\n",
    "\n",
    "lr_pred = lr_model.predict(x_loan_test)\n",
    "j4 = accuracy_score(y_loan_test, lr_pred)\n",
    "\n",
    "jaccard = [j1, j2, j3, j4]\n",
    "jaccard"
   ]
  },
  {
   "cell_type": "markdown",
   "metadata": {},
   "source": [
    "<div class=\"alert alert-block alert-warning\">\n",
    "<H5>\n",
    "We will now perform F1 Test\n",
    "</H5></div>"
   ]
  },
  {
   "cell_type": "code",
   "execution_count": 36,
   "metadata": {},
   "outputs": [
    {
     "data": {
      "text/plain": [
       "[0.6736355806123249,\n",
       " 0.6304176516942475,\n",
       " 0.7583503077293734,\n",
       " 0.6604267310789049]"
      ]
     },
     "execution_count": 36,
     "metadata": {},
     "output_type": "execute_result"
    }
   ],
   "source": [
    "knn_pred = kNN_model.predict(x_loan_test)\n",
    "f1 = f1_score(y_loan_test, knn_pred, average='weighted')\n",
    "\n",
    "dt_pred = dt.predict(x_loan_test)\n",
    "f2 = f1_score(y_loan_test, dt_pred, average='weighted')\n",
    "\n",
    "\n",
    "svm_pred = svm_model.predict(x_loan_test)\n",
    "f3 = f1_score(y_loan_test, svm_pred, average='weighted')\n",
    "\n",
    "lr_pred = lr_model.predict(x_loan_test)\n",
    "f4 = f1_score(y_loan_test, lr_pred, average='weighted')\n",
    "\n",
    "f1s = [f1, f2, f3, f4]\n",
    "f1s"
   ]
  },
  {
   "cell_type": "markdown",
   "metadata": {},
   "source": [
    "<div class=\"alert alert-block alert-warning\">\n",
    "<H5>\n",
    "We will now calculate Log Loss\n",
    "</H5></div>"
   ]
  },
  {
   "cell_type": "code",
   "execution_count": 37,
   "metadata": {},
   "outputs": [
    {
     "data": {
      "text/plain": [
       "['N/A', 'N/A', 'N/A', 0.5672153379912981]"
      ]
     },
     "execution_count": 37,
     "metadata": {},
     "output_type": "execute_result"
    }
   ],
   "source": [
    "from sklearn.metrics import log_loss\n",
    "\n",
    "lr_pred = lr_model.predict_proba(x_loan_test)\n",
    "aux = log_loss(y_loan_test, lr_pred)\n",
    "\n",
    "log_loss = ['N/A','N/A','N/A', aux]\n",
    "log_loss\n"
   ]
  },
  {
   "cell_type": "markdown",
   "metadata": {},
   "source": [
    "<div class=\"alert alert-block alert-danger\">\n",
    "<H2>\n",
    "REPORT\n",
    "</H2></div>\n",
    "<div class=\"alert alert-block alert-warning\">\n",
    "<H5>\n",
    "We will transfer calculated scores in a dataframe to form a report\n",
    "</H5></div>"
   ]
  },
  {
   "cell_type": "code",
   "execution_count": 38,
   "metadata": {},
   "outputs": [
    {
     "name": "stdout",
     "output_type": "stream",
     "text": [
      "\u001b[34;5m \n",
      "                         REPORTING MODEL ACCURACY\n"
     ]
    },
    {
     "data": {
      "text/html": [
       "<div>\n",
       "<style scoped>\n",
       "    .dataframe tbody tr th:only-of-type {\n",
       "        vertical-align: middle;\n",
       "    }\n",
       "\n",
       "    .dataframe tbody tr th {\n",
       "        vertical-align: top;\n",
       "    }\n",
       "\n",
       "    .dataframe thead th {\n",
       "        text-align: right;\n",
       "    }\n",
       "</style>\n",
       "<table border=\"1\" class=\"dataframe\">\n",
       "  <thead>\n",
       "    <tr style=\"text-align: right;\">\n",
       "      <th></th>\n",
       "      <th>Jaccard</th>\n",
       "      <th>F1-score</th>\n",
       "      <th>LogLoss</th>\n",
       "    </tr>\n",
       "  </thead>\n",
       "  <tbody>\n",
       "    <tr>\n",
       "      <th>KNN</th>\n",
       "      <td>0.7037037037037037</td>\n",
       "      <td>0.6736355806123249</td>\n",
       "      <td>N/A</td>\n",
       "    </tr>\n",
       "    <tr>\n",
       "      <th>Decision Tree</th>\n",
       "      <td>0.7407407407407407</td>\n",
       "      <td>0.6304176516942475</td>\n",
       "      <td>N/A</td>\n",
       "    </tr>\n",
       "    <tr>\n",
       "      <th>SVM</th>\n",
       "      <td>0.7962962962962963</td>\n",
       "      <td>0.7583503077293734</td>\n",
       "      <td>N/A</td>\n",
       "    </tr>\n",
       "    <tr>\n",
       "      <th>Logistic Regression</th>\n",
       "      <td>0.7407407407407407</td>\n",
       "      <td>0.6604267310789049</td>\n",
       "      <td>0.5672153379912981</td>\n",
       "    </tr>\n",
       "  </tbody>\n",
       "</table>\n",
       "</div>"
      ],
      "text/plain": [
       "                                Jaccard            F1-score  \\\n",
       "KNN                  0.7037037037037037  0.6736355806123249   \n",
       "Decision Tree        0.7407407407407407  0.6304176516942475   \n",
       "SVM                  0.7962962962962963  0.7583503077293734   \n",
       "Logistic Regression  0.7407407407407407  0.6604267310789049   \n",
       "\n",
       "                                LogLoss  \n",
       "KNN                                 N/A  \n",
       "Decision Tree                       N/A  \n",
       "SVM                                 N/A  \n",
       "Logistic Regression  0.5672153379912981  "
      ]
     },
     "execution_count": 38,
     "metadata": {},
     "output_type": "execute_result"
    }
   ],
   "source": [
    "index   = [\"KNN\", \"Decision Tree\", \"SVM\", \"Logistic Regression\"]\n",
    "colunms = [\"Jaccard\", \"F1-score\", \"LogLoss\"]\n",
    "\n",
    "data = [jaccard, f1s, log_loss]\n",
    "data = np.array(data).T\n",
    "\n",
    "df = pd.DataFrame(data, index=index, columns=colunms)\n",
    "\n",
    "print(u\"\\u001b[34;5m \\n                         REPORTING MODEL ACCURACY\")\n",
    "df"
   ]
  }
 ],
 "metadata": {
  "kernelspec": {
   "display_name": "Python 3",
   "language": "python",
   "name": "python3"
  },
  "language_info": {
   "codemirror_mode": {
    "name": "ipython",
    "version": 3
   },
   "file_extension": ".py",
   "mimetype": "text/x-python",
   "name": "python",
   "nbconvert_exporter": "python",
   "pygments_lexer": "ipython3",
   "version": "3.8.5"
  }
 },
 "nbformat": 4,
 "nbformat_minor": 4
}
