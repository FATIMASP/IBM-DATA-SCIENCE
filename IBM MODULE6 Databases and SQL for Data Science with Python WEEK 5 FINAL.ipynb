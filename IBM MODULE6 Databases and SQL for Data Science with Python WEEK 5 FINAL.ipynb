{
 "cells": [
  {
   "cell_type": "markdown",
   "metadata": {},
   "source": [
    "<div class=\"alert alert-block alert-info\">\n",
    "<H1>MODULE6: Databases and SQL for Data Science with Python:</H1></div>\n",
    "<div class=\"alert alert-block alert-success\">\n",
    "<H2>WEEK 5: Peer-graded Assignment</H2></div>\n",
    "<div class=\"alert alert-block alert-warning\"><H3>Chicago Data Analysis Using Local Database</H3> </div>"
   ]
  },
  {
   "cell_type": "code",
   "execution_count": 1,
   "metadata": {},
   "outputs": [
    {
     "name": "stdout",
     "output_type": "stream",
     "text": [
      "\u001b[30;1m \n",
      "Problem 1: Find the total number of crimes recorded in the CRIME table. \u001b[0m\u001b[31;1m2 Points\n",
      "\n",
      "\u001b[0m\u001b[31;1mIn [2]: \u001b[0m\u001b[34;1mSELECT COUNT(*) FROM CRIMES;\n",
      "\u001b[0m\n",
      "\u001b[0m\u001b[31;1mOut [2]:\n"
     ]
    },
    {
     "data": {
      "text/html": [
       "<div>\n",
       "<style scoped>\n",
       "    .dataframe tbody tr th:only-of-type {\n",
       "        vertical-align: middle;\n",
       "    }\n",
       "\n",
       "    .dataframe tbody tr th {\n",
       "        vertical-align: top;\n",
       "    }\n",
       "\n",
       "    .dataframe thead th {\n",
       "        text-align: right;\n",
       "    }\n",
       "</style>\n",
       "<table border=\"1\" class=\"dataframe\">\n",
       "  <thead>\n",
       "    <tr style=\"text-align: right;\">\n",
       "      <th></th>\n",
       "      <th>COUNT(*)</th>\n",
       "    </tr>\n",
       "  </thead>\n",
       "  <tbody>\n",
       "    <tr>\n",
       "      <th>0</th>\n",
       "      <td>533</td>\n",
       "    </tr>\n",
       "  </tbody>\n",
       "</table>\n",
       "</div>"
      ],
      "text/plain": [
       "   COUNT(*)\n",
       "0       533"
      ]
     },
     "execution_count": 1,
     "metadata": {},
     "output_type": "execute_result"
    }
   ],
   "source": [
    "###########################################################################################################################################################################################################################################################################################################################################\n",
    "print(u\"\\u001b[30;1m \\nProblem 1: Find the total number of crimes recorded in the CRIME table. \\u001b[0m\\u001b[31;1m2 Points\\n\\n\\u001b[0m\\u001b[31;1mIn [2]: \\u001b[0m\\u001b[34;1mSELECT COUNT(*) FROM CRIMES;\\n\\u001b[0m\\n\\u001b[0m\\u001b[31;1mOut [2]:\")\n",
    "#### PROBLEM 1: CRIMES TABLE #############################################################################################################################################################################################################################################################################################################\n",
    "import sqlite3\n",
    "import pandas as pd\n",
    "#### Establish Connection with Locally Created Database ###################################################################################################################################################################################################################################################################################\n",
    "conn = sqlite3.connect('IBM_MODULE6.db')\n",
    "cursor = conn.cursor() # Create Handle\n",
    "#### CODE #################################################################################################################################################################################################################################################################################################################################\n",
    "q= \"SELECT COUNT(*) FROM CRIMES;\"\n",
    "pd.read_sql_query(q,conn)\n",
    "###########################################################################################################################################################################################################################################################################################################################################"
   ]
  },
  {
   "cell_type": "code",
   "execution_count": 2,
   "metadata": {},
   "outputs": [
    {
     "name": "stdout",
     "output_type": "stream",
     "text": [
      "\u001b[30;1m \n",
      "Problem 2: List community areas with per capita income less than 11000. \u001b[0m\u001b[31;1m2 Points\n",
      "\n",
      "\u001b[0m\u001b[31;1mIn [2]: \u001b[0m\u001b[34;1mSELECT [COMMUNITY AREA NAME] FROM CENSUS WHERE [PER CAPITA INCOME ] <11000;\n",
      "\u001b[0m\n",
      "\u001b[0m\u001b[31;1mOut [2]:\n"
     ]
    },
    {
     "data": {
      "text/html": [
       "<div>\n",
       "<style scoped>\n",
       "    .dataframe tbody tr th:only-of-type {\n",
       "        vertical-align: middle;\n",
       "    }\n",
       "\n",
       "    .dataframe tbody tr th {\n",
       "        vertical-align: top;\n",
       "    }\n",
       "\n",
       "    .dataframe thead th {\n",
       "        text-align: right;\n",
       "    }\n",
       "</style>\n",
       "<table border=\"1\" class=\"dataframe\">\n",
       "  <thead>\n",
       "    <tr style=\"text-align: right;\">\n",
       "      <th></th>\n",
       "      <th>COMMUNITY AREA NAME</th>\n",
       "    </tr>\n",
       "  </thead>\n",
       "  <tbody>\n",
       "    <tr>\n",
       "      <th>0</th>\n",
       "      <td>West Garfield Park</td>\n",
       "    </tr>\n",
       "    <tr>\n",
       "      <th>1</th>\n",
       "      <td>South Lawndale</td>\n",
       "    </tr>\n",
       "    <tr>\n",
       "      <th>2</th>\n",
       "      <td>Fuller Park</td>\n",
       "    </tr>\n",
       "    <tr>\n",
       "      <th>3</th>\n",
       "      <td>Riverdale</td>\n",
       "    </tr>\n",
       "  </tbody>\n",
       "</table>\n",
       "</div>"
      ],
      "text/plain": [
       "  COMMUNITY AREA NAME\n",
       "0  West Garfield Park\n",
       "1      South Lawndale\n",
       "2         Fuller Park\n",
       "3           Riverdale"
      ]
     },
     "execution_count": 2,
     "metadata": {},
     "output_type": "execute_result"
    }
   ],
   "source": [
    "###########################################################################################################################################################################################################################################################################################################################################\n",
    "print(u\"\\u001b[30;1m \\nProblem 2: List community areas with per capita income less than 11000. \\u001b[0m\\u001b[31;1m2 Points\\n\\n\\u001b[0m\\u001b[31;1mIn [2]: \\u001b[0m\\u001b[34;1mSELECT [COMMUNITY AREA NAME] FROM CENSUS WHERE [PER CAPITA INCOME ] <11000;\\n\\u001b[0m\\n\\u001b[0m\\u001b[31;1mOut [2]:\")\n",
    "###########################################################################################################################################################################################################################################################################################################################################\n",
    "##### PROBLEM 2: CENSUS TABLE #############################################################################################################################################################################################################################################################################################################\n",
    "#### Establish Connection with Locally Created Database ###################################################################################################################################################################################################################################################################################\n",
    "conn = sqlite3.connect('IBM_MODULE6.db')\n",
    "cursor = conn.cursor() # Create Handle\n",
    "#### CODE #################################################################################################################################################################################################################################################################################################################################\n",
    "q= \"SELECT [COMMUNITY AREA NAME] FROM CENSUS WHERE [PER CAPITA INCOME ] <11000;\"\n",
    "pd.read_sql_query(q,conn)\n",
    "##############################################"
   ]
  },
  {
   "cell_type": "code",
   "execution_count": 3,
   "metadata": {},
   "outputs": [
    {
     "name": "stdout",
     "output_type": "stream",
     "text": [
      "\u001b[30;1m \n",
      "Problem 3: List all case numbers for crimes involving minors? \n",
      " {children are not considered minors for the purposes of crime analysis}. \u001b[0m\u001b[31;1m2 Points\n",
      "\n",
      "\u001b[0m\u001b[31;1mIn [3]: \u001b[0m\u001b[34;1mSELECT [CASE_NUMBER] FROM CRIMES WHERE [DESCRIPTION] LIKE '%MINOR%';\n",
      "\u001b[0m\n",
      "\u001b[0m\u001b[31;1mOut [3]:\n"
     ]
    },
    {
     "data": {
      "text/html": [
       "<div>\n",
       "<style scoped>\n",
       "    .dataframe tbody tr th:only-of-type {\n",
       "        vertical-align: middle;\n",
       "    }\n",
       "\n",
       "    .dataframe tbody tr th {\n",
       "        vertical-align: top;\n",
       "    }\n",
       "\n",
       "    .dataframe thead th {\n",
       "        text-align: right;\n",
       "    }\n",
       "</style>\n",
       "<table border=\"1\" class=\"dataframe\">\n",
       "  <thead>\n",
       "    <tr style=\"text-align: right;\">\n",
       "      <th></th>\n",
       "      <th>CASE_NUMBER</th>\n",
       "    </tr>\n",
       "  </thead>\n",
       "  <tbody>\n",
       "    <tr>\n",
       "      <th>0</th>\n",
       "      <td>HL266884</td>\n",
       "    </tr>\n",
       "    <tr>\n",
       "      <th>1</th>\n",
       "      <td>HK238408</td>\n",
       "    </tr>\n",
       "  </tbody>\n",
       "</table>\n",
       "</div>"
      ],
      "text/plain": [
       "  CASE_NUMBER\n",
       "0    HL266884\n",
       "1    HK238408"
      ]
     },
     "execution_count": 3,
     "metadata": {},
     "output_type": "execute_result"
    }
   ],
   "source": [
    "###########################################################################################################################################################################################################################################################################################################################################\n",
    "print(u\"\\u001b[30;1m \\nProblem 3: List all case numbers for crimes involving minors? \\n {children are not considered minors for the purposes of crime analysis}. \\u001b[0m\\u001b[31;1m2 Points\\n\\n\\u001b[0m\\u001b[31;1mIn [3]: \\u001b[0m\\u001b[34;1mSELECT [CASE_NUMBER] FROM CRIMES WHERE [DESCRIPTION] LIKE '%MINOR%';\\n\\u001b[0m\\n\\u001b[0m\\u001b[31;1mOut [3]:\")\n",
    "##### PROBLEM 3: CRIMES TABLE ############################################################################################################################################################################################################################################################################################################\n",
    "#### Establish Connection with Locally Created Database ###################################################################################################################################################################################################################################################################################\n",
    "conn = sqlite3.connect('IBM_MODULE6.db')\n",
    "cursor = conn.cursor() # Create Handle\n",
    "#### CODE #################################################################################################################################################################################################################################################################################################################################\n",
    "q= \"SELECT [CASE_NUMBER] FROM CRIMES WHERE [DESCRIPTION] LIKE '%MINOR%';\"\n",
    "pd.read_sql_query(q,conn)\n",
    "###########################################################################################################################################################################################################################################################################################################################################"
   ]
  },
  {
   "cell_type": "code",
   "execution_count": 4,
   "metadata": {},
   "outputs": [
    {
     "name": "stdout",
     "output_type": "stream",
     "text": [
      "\u001b[30;1m \n",
      "Problem 4: List all kidnapping crimes involving a child? \u001b[0m\u001b[31;1m2 Points\n",
      "\n",
      "\u001b[0m\u001b[31;1mIn [4]: \u001b[0m\u001b[34;1mSELECT * FROM CRIMES WHERE [PRIMARY_TYPE] LIKE '%KIDNAP%' AND [DESCRIPTION] LIKE '%CHILD%';\n",
      "\u001b[0m\n",
      "\u001b[0m\u001b[31;1mOut [4]:\n"
     ]
    },
    {
     "data": {
      "text/html": [
       "<div>\n",
       "<style scoped>\n",
       "    .dataframe tbody tr th:only-of-type {\n",
       "        vertical-align: middle;\n",
       "    }\n",
       "\n",
       "    .dataframe tbody tr th {\n",
       "        vertical-align: top;\n",
       "    }\n",
       "\n",
       "    .dataframe thead th {\n",
       "        text-align: right;\n",
       "    }\n",
       "</style>\n",
       "<table border=\"1\" class=\"dataframe\">\n",
       "  <thead>\n",
       "    <tr style=\"text-align: right;\">\n",
       "      <th></th>\n",
       "      <th>ID</th>\n",
       "      <th>CASE_NUMBER</th>\n",
       "      <th>COMMUNITY_AREA_NUMBER</th>\n",
       "      <th>DATE</th>\n",
       "      <th>BLOCK</th>\n",
       "      <th>IUCR</th>\n",
       "      <th>PRIMARY_TYPE</th>\n",
       "      <th>DESCRIPTION</th>\n",
       "      <th>LOCATION_DESCRIPTION</th>\n",
       "      <th>ARREST</th>\n",
       "      <th>...</th>\n",
       "      <th>BEAT</th>\n",
       "      <th>DISTRICT</th>\n",
       "      <th>WARD</th>\n",
       "      <th>FBICODE</th>\n",
       "      <th>X_COORDINATE</th>\n",
       "      <th>Y_COORDINATE</th>\n",
       "      <th>YEAR</th>\n",
       "      <th>LATITUDE</th>\n",
       "      <th>LONGITUDE</th>\n",
       "      <th>LOCATION</th>\n",
       "    </tr>\n",
       "  </thead>\n",
       "  <tbody>\n",
       "    <tr>\n",
       "      <th>0</th>\n",
       "      <td>5276766</td>\n",
       "      <td>HN144152</td>\n",
       "      <td>25</td>\n",
       "      <td>2007-01-26</td>\n",
       "      <td>050XX W VAN BUREN ST</td>\n",
       "      <td>1792</td>\n",
       "      <td>KIDNAPPING</td>\n",
       "      <td>CHILD ABDUCTION/STRANGER</td>\n",
       "      <td>STREET</td>\n",
       "      <td>0</td>\n",
       "      <td>...</td>\n",
       "      <td>1533</td>\n",
       "      <td>15</td>\n",
       "      <td>29.0</td>\n",
       "      <td>20</td>\n",
       "      <td>1143050.0</td>\n",
       "      <td>1897546.0</td>\n",
       "      <td>2007</td>\n",
       "      <td>41.87490841</td>\n",
       "      <td>-87.75024931</td>\n",
       "      <td>(41.874908413, -87.750249307)</td>\n",
       "    </tr>\n",
       "  </tbody>\n",
       "</table>\n",
       "<p>1 rows × 21 columns</p>\n",
       "</div>"
      ],
      "text/plain": [
       "        ID CASE_NUMBER  COMMUNITY_AREA_NUMBER        DATE  \\\n",
       "0  5276766    HN144152                     25  2007-01-26   \n",
       "\n",
       "                  BLOCK  IUCR PRIMARY_TYPE               DESCRIPTION  \\\n",
       "0  050XX W VAN BUREN ST  1792   KIDNAPPING  CHILD ABDUCTION/STRANGER   \n",
       "\n",
       "  LOCATION_DESCRIPTION ARREST  ...  BEAT DISTRICT  WARD FBICODE X_COORDINATE  \\\n",
       "0               STREET      0  ...  1533       15  29.0      20    1143050.0   \n",
       "\n",
       "  Y_COORDINATE  YEAR     LATITUDE     LONGITUDE                       LOCATION  \n",
       "0    1897546.0  2007  41.87490841  -87.75024931  (41.874908413, -87.750249307)  \n",
       "\n",
       "[1 rows x 21 columns]"
      ]
     },
     "execution_count": 4,
     "metadata": {},
     "output_type": "execute_result"
    }
   ],
   "source": [
    "###########################################################################################################################################################################################################################################################################################################################################\n",
    "print(u\"\\u001b[30;1m \\nProblem 4: List all kidnapping crimes involving a child? \\u001b[0m\\u001b[31;1m2 Points\\n\\n\\u001b[0m\\u001b[31;1mIn [4]: \\u001b[0m\\u001b[34;1mSELECT * FROM CRIMES WHERE [PRIMARY_TYPE] LIKE '%KIDNAP%' AND [DESCRIPTION] LIKE '%CHILD%';\\n\\u001b[0m\\n\\u001b[0m\\u001b[31;1mOut [4]:\")\n",
    "##### PROBLEM 4: CRIMES TABLE ############################################################################################################################################################################################################################################################################################################\n",
    "#### Establish Connection with Locally Created Database ###################################################################################################################################################################################################################################################################################\n",
    "conn = sqlite3.connect('IBM_MODULE6.db')\n",
    "cursor = conn.cursor() # Create Handle\n",
    "#### CODE #################################################################################################################################################################################################################################################################################################################################\n",
    "q= \"SELECT * FROM CRIMES WHERE [PRIMARY_TYPE] LIKE '%KIDNAP%' AND [DESCRIPTION] LIKE '%CHILD%';\"\n",
    "pd.read_sql_query(q,conn)\n",
    "###########################################################################################################################################################################################################################################################################################################################################"
   ]
  },
  {
   "cell_type": "code",
   "execution_count": 5,
   "metadata": {},
   "outputs": [
    {
     "name": "stdout",
     "output_type": "stream",
     "text": [
      "\u001b[30;1m \n",
      "Problem 5: What kind of crimes were recorded at schools? \u001b[0m\u001b[31;1m2 Points\n",
      "\n",
      "\u001b[0m\u001b[31;1mIn [5]:\u001b[0m\u001b[34;1mSELECT DISTINCT [PRIMARY_TYPE] FROM CRIMES WHERE[LOCATION_DESCRIPTION] LIKE 'SCHOOL%' ORDER BY [PRIMARY_TYPE] ASC;\n",
      "\u001b[0m\n",
      "\u001b[0m\u001b[31;1mOut [5]:\n"
     ]
    },
    {
     "data": {
      "text/html": [
       "<div>\n",
       "<style scoped>\n",
       "    .dataframe tbody tr th:only-of-type {\n",
       "        vertical-align: middle;\n",
       "    }\n",
       "\n",
       "    .dataframe tbody tr th {\n",
       "        vertical-align: top;\n",
       "    }\n",
       "\n",
       "    .dataframe thead th {\n",
       "        text-align: right;\n",
       "    }\n",
       "</style>\n",
       "<table border=\"1\" class=\"dataframe\">\n",
       "  <thead>\n",
       "    <tr style=\"text-align: right;\">\n",
       "      <th></th>\n",
       "      <th>PRIMARY_TYPE</th>\n",
       "    </tr>\n",
       "  </thead>\n",
       "  <tbody>\n",
       "    <tr>\n",
       "      <th>0</th>\n",
       "      <td>ASSAULT</td>\n",
       "    </tr>\n",
       "    <tr>\n",
       "      <th>1</th>\n",
       "      <td>BATTERY</td>\n",
       "    </tr>\n",
       "    <tr>\n",
       "      <th>2</th>\n",
       "      <td>CRIMINAL DAMAGE</td>\n",
       "    </tr>\n",
       "    <tr>\n",
       "      <th>3</th>\n",
       "      <td>CRIMINAL TRESPASS</td>\n",
       "    </tr>\n",
       "    <tr>\n",
       "      <th>4</th>\n",
       "      <td>NARCOTICS</td>\n",
       "    </tr>\n",
       "    <tr>\n",
       "      <th>5</th>\n",
       "      <td>PUBLIC PEACE VIOLATION</td>\n",
       "    </tr>\n",
       "  </tbody>\n",
       "</table>\n",
       "</div>"
      ],
      "text/plain": [
       "             PRIMARY_TYPE\n",
       "0                 ASSAULT\n",
       "1                 BATTERY\n",
       "2         CRIMINAL DAMAGE\n",
       "3       CRIMINAL TRESPASS\n",
       "4               NARCOTICS\n",
       "5  PUBLIC PEACE VIOLATION"
      ]
     },
     "execution_count": 5,
     "metadata": {},
     "output_type": "execute_result"
    }
   ],
   "source": [
    "###########################################################################################################################################################################################################################################################################################################################################\n",
    "print(u\"\\u001b[30;1m \\nProblem 5: What kind of crimes were recorded at schools? \\u001b[0m\\u001b[31;1m2 Points\\n\\n\\u001b[0m\\u001b[31;1mIn [5]:\\u001b[0m\\u001b[34;1mSELECT DISTINCT [PRIMARY_TYPE] FROM CRIMES WHERE[LOCATION_DESCRIPTION] LIKE 'SCHOOL%' ORDER BY [PRIMARY_TYPE] ASC;\\n\\u001b[0m\\n\\u001b[0m\\u001b[31;1mOut [5]:\")\n",
    "##### PROBLEM 5: CRIMES TABLE ############################################################################################################################################################################################################################################################################################################\n",
    "#### Establish Connection with Locally Created Database ###################################################################################################################################################################################################################################################################################\n",
    "conn = sqlite3.connect('IBM_MODULE6.db')\n",
    "cursor = conn.cursor() # Create Handle\n",
    "#### CODE #################################################################################################################################################################################################################################################################################################################################\n",
    "q= \"SELECT DISTINCT [PRIMARY_TYPE] FROM CRIMES WHERE[LOCATION_DESCRIPTION] LIKE 'SCHOOL%' ORDER BY [PRIMARY_TYPE] ASC;\"\n",
    "pd.read_sql_query(q,conn)\n",
    "###########################################################################################################################################################################################################################################################################################################################################"
   ]
  },
  {
   "cell_type": "code",
   "execution_count": 6,
   "metadata": {},
   "outputs": [
    {
     "name": "stdout",
     "output_type": "stream",
     "text": [
      "\u001b[30;1m \n",
      "Problem 6: List the average safety score for all types of schools. \u001b[0m\u001b[31;1m2 Points\n",
      "\n",
      "\u001b[0m\u001b[31;1mIn [6]:\u001b[0m\u001b[34;1mSELECT[Elementary, Middle, or High School],AVG([Safety Score])FROM SCHOOLS GROUP BY[Elementary, Middle, or High School];\n",
      "\u001b[0m\n",
      "\u001b[0m\u001b[31;1mOut [6]:\n"
     ]
    },
    {
     "data": {
      "text/html": [
       "<div>\n",
       "<style scoped>\n",
       "    .dataframe tbody tr th:only-of-type {\n",
       "        vertical-align: middle;\n",
       "    }\n",
       "\n",
       "    .dataframe tbody tr th {\n",
       "        vertical-align: top;\n",
       "    }\n",
       "\n",
       "    .dataframe thead th {\n",
       "        text-align: right;\n",
       "    }\n",
       "</style>\n",
       "<table border=\"1\" class=\"dataframe\">\n",
       "  <thead>\n",
       "    <tr style=\"text-align: right;\">\n",
       "      <th></th>\n",
       "      <th>Elementary, Middle, or High School</th>\n",
       "      <th>AVG([Safety Score])</th>\n",
       "    </tr>\n",
       "  </thead>\n",
       "  <tbody>\n",
       "    <tr>\n",
       "      <th>0</th>\n",
       "      <td>ES</td>\n",
       "      <td>49.520384</td>\n",
       "    </tr>\n",
       "    <tr>\n",
       "      <th>1</th>\n",
       "      <td>HS</td>\n",
       "      <td>49.623529</td>\n",
       "    </tr>\n",
       "    <tr>\n",
       "      <th>2</th>\n",
       "      <td>MS</td>\n",
       "      <td>48.000000</td>\n",
       "    </tr>\n",
       "  </tbody>\n",
       "</table>\n",
       "</div>"
      ],
      "text/plain": [
       "  Elementary, Middle, or High School  AVG([Safety Score])\n",
       "0                                 ES            49.520384\n",
       "1                                 HS            49.623529\n",
       "2                                 MS            48.000000"
      ]
     },
     "execution_count": 6,
     "metadata": {},
     "output_type": "execute_result"
    }
   ],
   "source": [
    "###########################################################################################################################################################################################################################################################################################################################################\n",
    "print(u\"\\u001b[30;1m \\nProblem 6: List the average safety score for all types of schools. \\u001b[0m\\u001b[31;1m2 Points\\n\\n\\u001b[0m\\u001b[31;1mIn [6]:\\u001b[0m\\u001b[34;1mSELECT[Elementary, Middle, or High School],AVG([Safety Score])FROM SCHOOLS GROUP BY[Elementary, Middle, or High School];\\n\\u001b[0m\\n\\u001b[0m\\u001b[31;1mOut [6]:\")\n",
    "##### PROBLEM 6: SCHOOLS TABLE ############################################################################################################################################################################################################################################################################################################\n",
    "#### Establish Connection with Locally Created Database ###################################################################################################################################################################################################################################################################################\n",
    "conn = sqlite3.connect('IBM_MODULE6.db')\n",
    "cursor = conn.cursor() # Create Handle\n",
    "#### CODE #################################################################################################################################################################################################################################################################################################################################\n",
    "q= \"SELECT[Elementary, Middle, or High School],AVG([Safety Score])FROM SCHOOLS GROUP BY[Elementary, Middle, or High School];\"\n",
    "pd.read_sql_query(q,conn)\n",
    "###########################################################################################################################################################################################################################################################################################################################################"
   ]
  },
  {
   "cell_type": "code",
   "execution_count": 7,
   "metadata": {},
   "outputs": [
    {
     "name": "stdout",
     "output_type": "stream",
     "text": [
      "\u001b[30;1m \n",
      "Problem 7: List 5 community areas with highest % of households below poverty line. \u001b[0m\u001b[31;1m3 Points\n",
      "\n",
      "\u001b[0m\u001b[31;1mIn [7]:\u001b[0m\u001b[34;1mSELECT [COMMUNITY AREA NAME],[PERCENT HOUSEHOLDS BELOW POVERTY] FROM CENSUS\n",
      "       ORDER BY [PERCENT HOUSEHOLDS BELOW POVERTY] DESC LIMIT 5;\n",
      "\u001b[0m\n",
      "\u001b[0m\u001b[31;1mOut [7]:\n"
     ]
    },
    {
     "data": {
      "text/html": [
       "<div>\n",
       "<style scoped>\n",
       "    .dataframe tbody tr th:only-of-type {\n",
       "        vertical-align: middle;\n",
       "    }\n",
       "\n",
       "    .dataframe tbody tr th {\n",
       "        vertical-align: top;\n",
       "    }\n",
       "\n",
       "    .dataframe thead th {\n",
       "        text-align: right;\n",
       "    }\n",
       "</style>\n",
       "<table border=\"1\" class=\"dataframe\">\n",
       "  <thead>\n",
       "    <tr style=\"text-align: right;\">\n",
       "      <th></th>\n",
       "      <th>COMMUNITY AREA NAME</th>\n",
       "      <th>PERCENT HOUSEHOLDS BELOW POVERTY</th>\n",
       "    </tr>\n",
       "  </thead>\n",
       "  <tbody>\n",
       "    <tr>\n",
       "      <th>0</th>\n",
       "      <td>Riverdale</td>\n",
       "      <td>56.5</td>\n",
       "    </tr>\n",
       "    <tr>\n",
       "      <th>1</th>\n",
       "      <td>Fuller Park</td>\n",
       "      <td>51.2</td>\n",
       "    </tr>\n",
       "    <tr>\n",
       "      <th>2</th>\n",
       "      <td>Englewood</td>\n",
       "      <td>46.6</td>\n",
       "    </tr>\n",
       "    <tr>\n",
       "      <th>3</th>\n",
       "      <td>North Lawndale</td>\n",
       "      <td>43.1</td>\n",
       "    </tr>\n",
       "    <tr>\n",
       "      <th>4</th>\n",
       "      <td>East Garfield Park</td>\n",
       "      <td>42.4</td>\n",
       "    </tr>\n",
       "  </tbody>\n",
       "</table>\n",
       "</div>"
      ],
      "text/plain": [
       "  COMMUNITY AREA NAME  PERCENT HOUSEHOLDS BELOW POVERTY\n",
       "0           Riverdale                              56.5\n",
       "1         Fuller Park                              51.2\n",
       "2           Englewood                              46.6\n",
       "3      North Lawndale                              43.1\n",
       "4  East Garfield Park                              42.4"
      ]
     },
     "execution_count": 7,
     "metadata": {},
     "output_type": "execute_result"
    }
   ],
   "source": [
    "###########################################################################################################################################################################################################################################################################################################################################\n",
    "print(u\"\\u001b[30;1m \\nProblem 7: List 5 community areas with highest % of households below poverty line. \\u001b[0m\\u001b[31;1m3 Points\\n\\n\\u001b[0m\\u001b[31;1mIn [7]:\\u001b[0m\\u001b[34;1mSELECT [COMMUNITY AREA NAME],[PERCENT HOUSEHOLDS BELOW POVERTY] FROM CENSUS\\n       ORDER BY [PERCENT HOUSEHOLDS BELOW POVERTY] DESC LIMIT 5;\\n\\u001b[0m\\n\\u001b[0m\\u001b[31;1mOut [7]:\")\n",
    "##### PROBLEM 7: CENSUS TABLE ############################################################################################################################################################################################################################################################################################################\n",
    "#### Establish Connection with Locally Created Database ###################################################################################################################################################################################################################################################################################\n",
    "conn = sqlite3.connect('IBM_MODULE6.db')\n",
    "cursor = conn.cursor() # Create Handle\n",
    "#### CODE #################################################################################################################################################################################################################################################################################################################################\n",
    "q= \"SELECT [COMMUNITY AREA NAME],[PERCENT HOUSEHOLDS BELOW POVERTY] FROM CENSUS ORDER BY [PERCENT HOUSEHOLDS BELOW POVERTY] DESC LIMIT 5;\"\n",
    "pd.read_sql_query(q,conn)\n",
    "###########################################################################################################################################################################################################################################################################################################################################"
   ]
  },
  {
   "cell_type": "code",
   "execution_count": 8,
   "metadata": {},
   "outputs": [
    {
     "name": "stdout",
     "output_type": "stream",
     "text": [
      "\u001b[30;1m \n",
      "Problem 8: Which community area(number) is most crime prone? \u001b[0m\u001b[31;1m3 Points\n",
      "\n",
      "\u001b[0m\u001b[31;1mIn [8]:\u001b[0m\u001b[34;1mSELECT [COMMUNITY_AREA_NUMBER], COUNT(*) AS Frequency FROM CRIMES GROUP BY[COMMUNITY_AREA_NUMBER] ORDER BY FREQUENCY DESC LIMIT 1;\n",
      "\u001b[0m\n",
      "\u001b[0m\u001b[31;1mOut [8]:\n"
     ]
    },
    {
     "data": {
      "text/html": [
       "<div>\n",
       "<style scoped>\n",
       "    .dataframe tbody tr th:only-of-type {\n",
       "        vertical-align: middle;\n",
       "    }\n",
       "\n",
       "    .dataframe tbody tr th {\n",
       "        vertical-align: top;\n",
       "    }\n",
       "\n",
       "    .dataframe thead th {\n",
       "        text-align: right;\n",
       "    }\n",
       "</style>\n",
       "<table border=\"1\" class=\"dataframe\">\n",
       "  <thead>\n",
       "    <tr style=\"text-align: right;\">\n",
       "      <th></th>\n",
       "      <th>COMMUNITY_AREA_NUMBER</th>\n",
       "      <th>Frequency</th>\n",
       "    </tr>\n",
       "  </thead>\n",
       "  <tbody>\n",
       "    <tr>\n",
       "      <th>0</th>\n",
       "      <td>25</td>\n",
       "      <td>43</td>\n",
       "    </tr>\n",
       "  </tbody>\n",
       "</table>\n",
       "</div>"
      ],
      "text/plain": [
       "   COMMUNITY_AREA_NUMBER  Frequency\n",
       "0                     25         43"
      ]
     },
     "execution_count": 8,
     "metadata": {},
     "output_type": "execute_result"
    }
   ],
   "source": [
    "###########################################################################################################################################################################################################################################################################################################################################\n",
    "print(u\"\\u001b[30;1m \\nProblem 8: Which community area(number) is most crime prone? \\u001b[0m\\u001b[31;1m3 Points\\n\\n\\u001b[0m\\u001b[31;1mIn [8]:\\u001b[0m\\u001b[34;1mSELECT [COMMUNITY_AREA_NUMBER], COUNT(*) AS Frequency FROM CRIMES GROUP BY[COMMUNITY_AREA_NUMBER] ORDER BY FREQUENCY DESC LIMIT 1;\\n\\u001b[0m\\n\\u001b[0m\\u001b[31;1mOut [8]:\")\n",
    "##### PROBLEM 8: CRIMES TABLE ############################################################################################################################################################################################################################################################################################################\n",
    "#### Establish Connection with Locally Created Database ###################################################################################################################################################################################################################################################################################\n",
    "conn = sqlite3.connect('IBM_MODULE6.db')\n",
    "cursor = conn.cursor() # Create Handle\n",
    "#### CODE #################################################################################################################################################################################################################################################################################################################################\n",
    "q= \"SELECT [COMMUNITY_AREA_NUMBER], COUNT(*) AS Frequency FROM CRIMES GROUP BY[COMMUNITY_AREA_NUMBER] ORDER BY FREQUENCY DESC LIMIT 1;\"\n",
    "pd.read_sql_query(q,conn)\n",
    "###########################################################################################################################################################################################################################################################################################################################################"
   ]
  },
  {
   "cell_type": "code",
   "execution_count": 9,
   "metadata": {},
   "outputs": [
    {
     "name": "stdout",
     "output_type": "stream",
     "text": [
      "\u001b[30;1m \n",
      "Problem 9: Use a sub-query to find the name of the community area with highest hardship index. \u001b[0m\u001b[31;1m3 Points\n",
      "\n",
      "\u001b[0m\u001b[31;1mIn [9]:\u001b[0m\u001b[34;1mSELECT [COMMUNITY AREA NAME] FROM CENSUS WHERE [HARDSHIP INDEX] = (SELECT MAX([HARDSHIP INDEX])FROM CENSUS);\n",
      "\u001b[0m\n",
      "\u001b[0m\u001b[31;1mOut [9]:\n"
     ]
    },
    {
     "data": {
      "text/html": [
       "<div>\n",
       "<style scoped>\n",
       "    .dataframe tbody tr th:only-of-type {\n",
       "        vertical-align: middle;\n",
       "    }\n",
       "\n",
       "    .dataframe tbody tr th {\n",
       "        vertical-align: top;\n",
       "    }\n",
       "\n",
       "    .dataframe thead th {\n",
       "        text-align: right;\n",
       "    }\n",
       "</style>\n",
       "<table border=\"1\" class=\"dataframe\">\n",
       "  <thead>\n",
       "    <tr style=\"text-align: right;\">\n",
       "      <th></th>\n",
       "      <th>COMMUNITY AREA NAME</th>\n",
       "    </tr>\n",
       "  </thead>\n",
       "  <tbody>\n",
       "    <tr>\n",
       "      <th>0</th>\n",
       "      <td>Riverdale</td>\n",
       "    </tr>\n",
       "  </tbody>\n",
       "</table>\n",
       "</div>"
      ],
      "text/plain": [
       "  COMMUNITY AREA NAME\n",
       "0           Riverdale"
      ]
     },
     "execution_count": 9,
     "metadata": {},
     "output_type": "execute_result"
    }
   ],
   "source": [
    "###########################################################################################################################################################################################################################################################################################################################################\n",
    "print(u\"\\u001b[30;1m \\nProblem 9: Use a sub-query to find the name of the community area with highest hardship index. \\u001b[0m\\u001b[31;1m3 Points\\n\\n\\u001b[0m\\u001b[31;1mIn [9]:\\u001b[0m\\u001b[34;1mSELECT [COMMUNITY AREA NAME] FROM CENSUS WHERE [HARDSHIP INDEX] = (SELECT MAX([HARDSHIP INDEX])FROM CENSUS);\\n\\u001b[0m\\n\\u001b[0m\\u001b[31;1mOut [9]:\")\n",
    "##### PROBLEM 9: CENSUS TABLE ############################################################################################################################################################################################################################################################################################################\n",
    "#### Establish Connection with Locally Created Database ###################################################################################################################################################################################################################################################################################\n",
    "conn = sqlite3.connect('IBM_MODULE6.db')\n",
    "cursor = conn.cursor() # Create Handle\n",
    "#### CODE #################################################################################################################################################################################################################################################################################################################################\n",
    "q= \"SELECT [COMMUNITY AREA NAME] FROM CENSUS WHERE [HARDSHIP INDEX] = (SELECT MAX([HARDSHIP INDEX])FROM CENSUS);\"\n",
    "pd.read_sql_query(q,conn)\n",
    "###########################################################################################################################################################################################################################################################################################################################################"
   ]
  },
  {
   "cell_type": "code",
   "execution_count": 10,
   "metadata": {},
   "outputs": [
    {
     "name": "stdout",
     "output_type": "stream",
     "text": [
      "\u001b[30;1m \n",
      "Problem 10: Use a sub-query to determine the Community Area Name with most number of crimes? \u001b[0m\u001b[31;1m4 Points\n",
      "\n",
      "\u001b[0m\u001b[31;1mIn [10]:\u001b[0m\u001b[34;1mSELECT [COMMUNITY AREA NAME] FROM CENSUS WHERE[Community Area Number]= \n",
      "(SELECT[COMMUNITY_AREA_NUMBER]FROM CRIMES WHERE [COMMUNITY_AREA_NUMBER]=25 LIMIT 1);\n",
      "\u001b[0m\n",
      "\u001b[0m\u001b[31;1mOut [10]:\n"
     ]
    },
    {
     "data": {
      "text/html": [
       "<div>\n",
       "<style scoped>\n",
       "    .dataframe tbody tr th:only-of-type {\n",
       "        vertical-align: middle;\n",
       "    }\n",
       "\n",
       "    .dataframe tbody tr th {\n",
       "        vertical-align: top;\n",
       "    }\n",
       "\n",
       "    .dataframe thead th {\n",
       "        text-align: right;\n",
       "    }\n",
       "</style>\n",
       "<table border=\"1\" class=\"dataframe\">\n",
       "  <thead>\n",
       "    <tr style=\"text-align: right;\">\n",
       "      <th></th>\n",
       "      <th>COMMUNITY AREA NAME</th>\n",
       "    </tr>\n",
       "  </thead>\n",
       "  <tbody>\n",
       "    <tr>\n",
       "      <th>0</th>\n",
       "      <td>Austin</td>\n",
       "    </tr>\n",
       "  </tbody>\n",
       "</table>\n",
       "</div>"
      ],
      "text/plain": [
       "  COMMUNITY AREA NAME\n",
       "0              Austin"
      ]
     },
     "execution_count": 10,
     "metadata": {},
     "output_type": "execute_result"
    }
   ],
   "source": [
    "###########################################################################################################################################################################################################################################################################################################################################\n",
    "print(u\"\\u001b[30;1m \\nProblem 10: Use a sub-query to determine the Community Area Name with most number of crimes? \\u001b[0m\\u001b[31;1m4 Points\\n\\n\\u001b[0m\\u001b[31;1mIn [10]:\\u001b[0m\\u001b[34;1mSELECT [COMMUNITY AREA NAME] FROM CENSUS WHERE[Community Area Number]= \\n(SELECT[COMMUNITY_AREA_NUMBER]FROM CRIMES WHERE [COMMUNITY_AREA_NUMBER]=25 LIMIT 1);\\n\\u001b[0m\\n\\u001b[0m\\u001b[31;1mOut [10]:\")\n",
    "##### PROBLEM 10: CENSUS & CRIMES TABLE ############################################################################################################################################################################################################################################################################################################\n",
    "#### Establish Connection with Locally Created Database ###################################################################################################################################################################################################################################################################################\n",
    "conn = sqlite3.connect('IBM_MODULE6.db')\n",
    "cursor = conn.cursor() # Create Handle\n",
    "#### CODE #################################################################################################################################################################################################################################################################################################################################\n",
    "q= \"SELECT [COMMUNITY AREA NAME] FROM CENSUS WHERE[Community Area Number]= (SELECT[COMMUNITY_AREA_NUMBER]FROM CRIMES WHERE [COMMUNITY_AREA_NUMBER]=25 LIMIT 1);\"\n",
    "pd.read_sql_query(q,conn)\n",
    "###########################################################################################################################################################################################################################################################################################################################################"
   ]
  }
 ],
 "metadata": {
  "kernelspec": {
   "display_name": "Python 3",
   "language": "python",
   "name": "python3"
  },
  "language_info": {
   "codemirror_mode": {
    "name": "ipython",
    "version": 3
   },
   "file_extension": ".py",
   "mimetype": "text/x-python",
   "name": "python",
   "nbconvert_exporter": "python",
   "pygments_lexer": "ipython3",
   "version": "3.8.5"
  }
 },
 "nbformat": 4,
 "nbformat_minor": 4
}
